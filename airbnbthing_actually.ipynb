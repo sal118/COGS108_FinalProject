{
 "cells": [
  {
   "cell_type": "code",
   "execution_count": 1,
   "metadata": {
    "collapsed": true
   },
   "outputs": [],
   "source": [
    "import csv\n",
    "import pandas as pd\n",
    "# do more expensive airbnbs have better ratings than cheaper ones?? \n",
    "# expand: which area ?? "
   ]
  },
  {
   "cell_type": "code",
   "execution_count": 10,
   "metadata": {},
   "outputs": [
    {
     "name": "stdout",
     "output_type": "stream",
     "text": [
      "11.0\n",
      "2239.0\n"
     ]
    }
   ],
   "source": [

    "may_2014 = pd.read_csv(open('tomslee_airbnb_san_diego_0033_2014-05-25.csv')) #, header=None)\n",
    "room_id = dataset['room_id']\n",
    "\n",
    "\n",
    "dataset.drop(['room_id','host_id', 'borough', 'latitude', 'longitude', 'last_modified'], axis=1, inplace=True)\n",
    "\n",
    "#print(dataset)\n",
    "\n",
    "minval = dataset['price'].min()\n",
    "\n",
    "maxval = dataset['price'].max()\n",
    "\n",
    "print (minval)\n",
    "print (maxval)\n",
    "\n",
    "# drop latitude, longitude, borough, room_id, host_id, last_modified "
   ]
  },
  {
   "cell_type": "code",
   "execution_count": null,
   "metadata": {
    "collapsed": true
   },
   "outputs": [],
   "source": [
    "# create dictionary where key is neighborhood and value is number of times it popped up in listing \n",
    "# bias could be generated based off of number of reviews and corresponding satisfaction level\n",
    "# "
   ]
  }
 ],
 "metadata": {
  "kernelspec": {
   "display_name": "Python 3",
   "language": "python",
   "name": "python3"
  },
  "language_info": {
   "codemirror_mode": {
    "name": "ipython",
    "version": 3
   },
   "file_extension": ".py",
   "mimetype": "text/x-python",
   "name": "python",
   "nbconvert_exporter": "python",
   "pygments_lexer": "ipython3",
   "version": "3.6.2"
  }
 },
 "nbformat": 4,
 "nbformat_minor": 2
}
