{
 "cells": [
  {
   "cell_type": "code",
   "execution_count": 1,
   "metadata": {},
   "outputs": [],
   "source": [
    "#!conda install --yes -c esri arcgis"
   ]
  },
  {
   "cell_type": "code",
   "execution_count": 2,
   "metadata": {},
   "outputs": [
    {
     "name": "stderr",
     "output_type": "stream",
     "text": [
      "C:\\Users\\kukidex\\Anaconda3\\lib\\site-packages\\statsmodels\\compat\\pandas.py:56: FutureWarning: The pandas.core.datetools module is deprecated and will be removed in a future version. Please use the pandas.tseries module instead.\n",
      "  from pandas.core import datetools\n"
     ]
    }
   ],
   "source": [
    "# Imports -  These are all you need for the assignment: do not import additional packages\n",
    "%matplotlib inline\n",
    "\n",
    "import numpy as np\n",
    "import pandas as pd\n",
    "import matplotlib.pyplot as plt\n",
    "\n",
    "import patsy\n",
    "import statsmodels.api as sm\n",
    "import scipy.stats as stats\n",
    "import arcgis \n",
    "from scipy.stats import ttest_ind, chisquare, normaltest\n",
    "from arcgis import *\n",
    "\n",
    "# Note: the statsmodels import may print out a 'FutureWarning'. Thats fine.\n",
    "# do more expensive airbnbs have better ratings than cheaper ones?? \n",
    "# expand: which area ?? "
   ]
  },
  {
   "cell_type": "code",
   "execution_count": 20,
   "metadata": {},
   "outputs": [],
   "source": [
    "may_2014 = pd.read_csv(open('tomslee_airbnb_san_diego_0033_2014-05-25.csv')) #, header=None)\n",
    "november_2014 = pd.read_csv(open('tomslee_airbnb_san_diego_0063_2014-11-03.csv')) #, header=None)\n",
    "august_2015 = pd.read_csv(open('tomslee_airbnb_san_diego_0142_2015-08-22.csv')) #, header=None)\n",
    "october1_2015 = pd.read_csv(open('tomslee_airbnb_san_diego_0169_2015-10-03.csv')) #, header=None)\n",
    "october2_2015 = pd.read_csv(open('tomslee_airbnb_san_diego_0187_2015-10-23.csv')) #, header=None)\n",
    "december1_2015 = pd.read_csv(open('tomslee_airbnb_san_diego_0222_2015-12-03.csv')) #, header=None)\n",
    "december2_2015 = pd.read_csv(open('tomslee_airbnb_san_diego_0242_2015-12-16.csv')) #, header=None)\n",
    "january_2016 = pd.read_csv(open('tomslee_airbnb_san_diego_0289_2016-01-19.csv')) #, header=None)\n",
    "february_2016 = pd.read_csv(open('tomslee_airbnb_san_diego_0328_2016-02-22.csv')) #, header=None)\n",
    "march_2016 = pd.read_csv(open('tomslee_airbnb_san_diego_0351_2016-03-23.csv')) #, header=None)\n",
    "april_2016 = pd.read_csv(open('tomslee_airbnb_san_diego_0393_2016-04-18.csv')) #, header=None)\n",
    "may_2016 = pd.read_csv(open('tomslee_airbnb_san_diego_0427_2016-05-22.csv')) #, header=None)\n",
    "june_2016 = pd.read_csv(open('tomslee_airbnb_san_diego_0468_2016-06-21.csv')) #, header=None)\n",
    "july_2016 = pd.read_csv(open('tomslee_airbnb_san_diego_0496_2016-07-19.csv')) #, header=None)\n",
    "august_2016 = pd.read_csv(open('tomslee_airbnb_san_diego_0531_2016-08-22.csv')) #, header=None)\n",
    "september_2016 = pd.read_csv(open('tomslee_airbnb_san_diego_0573_2016-09-19.csv')) #, header=None)\n",
    "october_2016 = pd.read_csv(open('tomslee_airbnb_san_diego_0617_2016-10-22.csv')) #, header=None)\n",
    "november_2016 = pd.read_csv(open('tomslee_airbnb_san_diego_0656_2016-11-25.csv')) #, header=None)\n",
    "december_2016 = pd.read_csv(open('tomslee_airbnb_san_diego_0713_2016-12-25.csv')) #, header=None)\n",
    "january_2017 = pd.read_csv(open('tomslee_airbnb_san_diego_0786_2017-01-15.csv')) #, header=None)\n",
    "february_2017 = pd.read_csv(open('tomslee_airbnb_san_diego_0865_2017-02-17.csv')) #, header=None)\n",
    "april_2017 = pd.read_csv(open('tomslee_airbnb_san_diego_1050_2017-04-09.csv')) #, header=None)\n",
    "may_2017 = pd.read_csv(open('tomslee_airbnb_san_diego_1194_2017-05-06.csv')) #, header=None)\n",
    "june_2017 = pd.read_csv(open('tomslee_airbnb_san_diego_1316_2017-06-11.csv')) #, header=None)\n",
    "july_2017 = pd.read_csv(open('tomslee_airbnb_san_diego_1436_2017-07-11.csv')) #, header=None)\n",
    "\n",
    "# merge all datasets together\n",
    "list_2014 = [may_2014, november_2014]\n",
    "list_2015 = [august_2015, october1_2015, october2_2015, december1_2015, december2_2015]\n",
    "list_2016 = [january_2016, february_2016, march_2016, april_2016, may_2016, june_2016, july_2016, august_2016, september_2016, october_2016, november_2016, december_2016]\n",
    "list_2017 = [january_2017, february_2017, april_2017, may_2017, july_2017]\n",
    "\n",
    "\n",
    "#dataset.drop(['room_id','host_id', 'borough', 'latitude', 'longitude', 'last_modified'], axis=1, inplace=True)\n",
    "\n",
    "#print(dataset)\n",
    "\n",
    "#minval = dataset['price'].min()\n",
    "\n",
    "#maxval = dataset['price'].max()\n",
    "\n",
    "#print (minval)\n",
    "#print (maxval)\n",
    "\n",
    "# drop latitude, longitude, borough, room_id, host_id, last_modified "
   ]
  },
  {
   "cell_type": "code",
   "execution_count": 4,
   "metadata": {},
   "outputs": [],
   "source": [
    "def appendDFs(appendTo,listOfDFs):\n",
    "    for i in listOfDFs:\n",
    "        appendTo = appendTo.append(i)\n",
    "    return appendTo"
   ]
  },
  {
   "cell_type": "code",
   "execution_count": 5,
   "metadata": {},
   "outputs": [],
   "source": [
    "\n",
    "df_2014 = pd.DataFrame();\n",
    "df_2015 = pd.DataFrame();\n",
    "df_2016 = pd.DataFrame();\n",
    "df_2017 = pd.DataFrame();\n",
    "\n",
    "df_2014 = appendDFs(df_2014,list_2014)\n",
    "df_2015 = appendDFs(df_2015,list_2015)\n",
    "df_2016 = appendDFs(df_2016,list_2016)\n",
    "df_2017 = appendDFs(df_2017,list_2017)\n",
    "\n",
    "df_2014 = df_2014.dropna(subset = ['overall_satisfaction','price'])\n",
    "df_2015 = df_2015.dropna(subset = ['overall_satisfaction','price'])\n",
    "df_2016 = df_2016.dropna(subset = ['overall_satisfaction','price'])\n",
    "df_2017 = df_2017.dropna(subset = ['overall_satisfaction','price'])\n",
    "\n",
    "\n",
    "\n",
    "df = pd.DataFrame()\n",
    "df = df.append(df_2014)\n",
    "df = df.append(df_2015)\n",
    "df = df.append(df_2016)\n",
    "df = df.append(df_2017)\n",
    "\n",
    "\n",
    "df = df.dropna(subset = ['overall_satisfaction','price'])\n",
    "\n"
   ]
  },
  {
   "cell_type": "code",
   "execution_count": 6,
   "metadata": {},
   "outputs": [
    {
     "name": "stdout",
     "output_type": "stream",
     "text": [
      "209    0.0\n",
      "Name: overall_satisfaction, dtype: float64\n"
     ]
    },
    {
     "data": {
      "text/plain": [
       "<matplotlib.axes._subplots.AxesSubplot at 0x28afd9aa278>"
      ]
     },
     "execution_count": 6,
     "metadata": {},
     "output_type": "execute_result"
    },
    {
     "data": {
      "image/png": "[encoded data removed]",
      "text/plain": [
       "<matplotlib.figure.Figure at 0x28af3d1ee80>"
      ]
     },
     "metadata": {},
     "output_type": "display_data"
    }
   ],
   "source": [
    "print(df[df.price==df['price'].max()].overall_satisfaction)\n",
    "df['price'].value_counts().plot.bar()\n",
    "\n"
   ]
  },
  {
   "cell_type": "code",
   "execution_count": 7,
   "metadata": {},
   "outputs": [],
   "source": [
    "# create dictionary where key is neighborhood and value is number of times it popped up in listing \n",
    "# bias could be generated based off of number of reviews and corresponding satisfaction level\n",
    "# "
   ]
  },
  {
   "cell_type": "code",
   "execution_count": 9,
   "metadata": {},
   "outputs": [
    {
     "data": {
      "text/plain": [
       "Text(0,0.5,'longitude')"
      ]
     },
     "execution_count": 9,
     "metadata": {},
     "output_type": "execute_result"
    },
    {
     "data": {
      "image/png": "[encoded data removed]",
      "text/plain": [
       "<matplotlib.figure.Figure at 0x28a80aafa20>"
      ]
     },
     "metadata": {},
     "output_type": "display_data"
    }
   ],
   "source": [
    "plt.figure(figsize=(10, 10))\n",
    "plt.scatter(df['longitude'], df['latitude'], s=0.02)\n",
    "plt.plot(-117.242488,32.664313, 'ro')\n",
    "plt.plot(-117.190783,32.732586, 'ro')\n",
    "\n",
    "\n",
    "axes = plt.gca()\n",
    "axes.set_xlabel('latitude')\n",
    "axes.set_ylabel('longitude')"
   ]
  },
  {
   "cell_type": "code",
   "execution_count": 10,
   "metadata": {},
   "outputs": [],
   "source": [
    "mygis = GIS(\"https://www.arcgis.com\", \"arcgis_python\", \"P@ssword123\")"
   ]
  },
  {
   "cell_type": "code",
   "execution_count": 11,
   "metadata": {},
   "outputs": [
    {
     "name": "stderr",
     "output_type": "stream",
     "text": [
      "Widget Javascript not detected.  It may not be installed or enabled properly.\n"
     ]
    },
    {
     "data": {
      "application/vnd.jupyter.widget-view+json": {
       "model_id": "71017986475f4c7480860c05913b5f1c"
      }
     },
     "metadata": {},
     "output_type": "display_data"
    }
   ],
   "source": [
    "m = mygis.map('San Diego')\n",
    "display(m)"
   ]
  },
  {
   "cell_type": "code",
   "execution_count": 13,
   "metadata": {},
   "outputs": [],
   "source": [
    "#m.center = [32.71,-117.2]\n",
    "#m.zoom=13\n",
    "m.center = [32.71,-117.2]\n",
    "m.zoom=12"
   ]
  },
  {
   "cell_type": "code",
   "execution_count": 14,
   "metadata": {},
   "outputs": [],
   "source": [
    "n = mygis.map('San Diego')"
   ]
  },
  {
   "cell_type": "code",
   "execution_count": 15,
   "metadata": {},
   "outputs": [],
   "source": [
    "#temp_layer = merge_layers(temp_list[0],temp_list[1],gis=mygis)\n",
    "#n.add_layer(x)"
   ]
  },
  {
   "cell_type": "markdown",
   "metadata": {},
   "source": [
    "## Import Data from df"
   ]
  },
  {
   "cell_type": "code",
   "execution_count": 16,
   "metadata": {},
   "outputs": [
    {
     "name": "stdout",
     "output_type": "stream",
     "text": [
      "imported 1000 of 107571\n",
      "imported 2000 of 107571\n",
      "imported 3000 of 107571\n",
      "imported 4000 of 107571\n",
      "imported 5000 of 107571\n",
      "imported 6000 of 107571\n",
      "imported 7000 of 107571\n",
      "imported 8000 of 107571\n",
      "imported 9000 of 107571\n",
      "imported 10000 of 107571\n",
      "imported 11000 of 107571\n",
      "imported 12000 of 107571\n",
      "imported 13000 of 107571\n",
      "imported 14000 of 107571\n",
      "imported 15000 of 107571\n",
      "imported 16000 of 107571\n",
      "imported 17000 of 107571\n",
      "imported 18000 of 107571\n",
      "imported 19000 of 107571\n",
      "imported 20000 of 107571\n",
      "imported 21000 of 107571\n",
      "imported 22000 of 107571\n",
      "imported 23000 of 107571\n",
      "imported 24000 of 107571\n",
      "imported 25000 of 107571\n",
      "imported 26000 of 107571\n",
      "imported 27000 of 107571\n",
      "imported 28000 of 107571\n",
      "imported 29000 of 107571\n",
      "imported 30000 of 107571\n",
      "imported 31000 of 107571\n",
      "imported 32000 of 107571\n",
      "imported 33000 of 107571\n",
      "imported 34000 of 107571\n",
      "imported 35000 of 107571\n",
      "imported 36000 of 107571\n",
      "imported 37000 of 107571\n",
      "imported 38000 of 107571\n",
      "imported 39000 of 107571\n",
      "imported 40000 of 107571\n",
      "imported 41000 of 107571\n",
      "imported 42000 of 107571\n",
      "imported 43000 of 107571\n",
      "imported 44000 of 107571\n",
      "imported 45000 of 107571\n",
      "imported 46000 of 107571\n",
      "imported 47000 of 107571\n",
      "imported 48000 of 107571\n",
      "imported 49000 of 107571\n",
      "imported 50000 of 107571\n",
      "imported 51000 of 107571\n",
      "imported 52000 of 107571\n",
      "imported 53000 of 107571\n",
      "imported 54000 of 107571\n",
      "imported 55000 of 107571\n",
      "imported 56000 of 107571\n",
      "imported 57000 of 107571\n",
      "imported 58000 of 107571\n",
      "imported 59000 of 107571\n",
      "imported 60000 of 107571\n",
      "imported 61000 of 107571\n",
      "imported 62000 of 107571\n",
      "imported 63000 of 107571\n",
      "imported 64000 of 107571\n",
      "imported 65000 of 107571\n",
      "imported 66000 of 107571\n",
      "imported 67000 of 107571\n",
      "imported 68000 of 107571\n",
      "imported 69000 of 107571\n",
      "imported 70000 of 107571\n",
      "imported 71000 of 107571\n",
      "imported 72000 of 107571\n",
      "imported 73000 of 107571\n",
      "imported 74000 of 107571\n",
      "imported 75000 of 107571\n",
      "imported 76000 of 107571\n",
      "imported 77000 of 107571\n",
      "imported 78000 of 107571\n",
      "imported 79000 of 107571\n",
      "imported 80000 of 107571\n",
      "imported 81000 of 107571\n",
      "imported 82000 of 107571\n",
      "imported 83000 of 107571\n",
      "imported 84000 of 107571\n",
      "imported 85000 of 107571\n",
      "imported 86000 of 107571\n",
      "imported 87000 of 107571\n",
      "imported 88000 of 107571\n",
      "imported 89000 of 107571\n",
      "imported 90000 of 107571\n",
      "imported 91000 of 107571\n",
      "imported 92000 of 107571\n",
      "imported 93000 of 107571\n",
      "imported 94000 of 107571\n",
      "imported 95000 of 107571\n",
      "imported 96000 of 107571\n",
      "imported 97000 of 107571\n",
      "imported 98000 of 107571\n",
      "imported 99000 of 107571\n",
      "imported 100000 of 107571\n",
      "imported 101000 of 107571\n",
      "imported 102000 of 107571\n",
      "imported 103000 of 107571\n",
      "imported 104000 of 107571\n",
      "imported 105000 of 107571\n",
      "imported 106000 of 107571\n",
      "imported 107000 of 107571\n",
      "imported 108000 of 107571\n",
      "imported 107571 of 107571 rows\n"
     ]
    }
   ],
   "source": [
    "#import collections in sizes of 1000\n",
    "coords = df[['latitude','longitude']]\n",
    "def make_ftcols(df):\n",
    "    temp_list = []\n",
    "    i = 0\n",
    "    while i < len(df):\n",
    "        temp_list.append(mygis.content.import_data(df[i:i+1000]))\n",
    "        i += 1000\n",
    "        print(\"imported\",i,\"of\",len(coords))\n",
    "\n",
    "    print(\"imported\", len(coords),\"of\",len(coords),\"rows\")\n",
    "    return temp_list\n",
    "\n",
    "\n",
    "temp_list = make_ftcols(df)"
   ]
  },
  {
   "cell_type": "code",
   "execution_count": null,
   "metadata": {},
   "outputs": [
    {
     "name": "stdout",
     "output_type": "stream",
     "text": [
      "merged 1 list(s)\n"
     ]
    }
   ],
   "source": [
    "def merge_ftcols(ftlist):\n",
    "    temp_ft_col = ftlist[0]\n",
    "    merge_count = 0;\n",
    "    for i in ftlist[1:10]:\n",
    "        merge_count += 1\n",
    "        temp_ft_col = merge_layers(temp_ft_col,i,gis=mygis)\n",
    "        print(\"merged\",merge_count,\"list(s)\")\n",
    "    return temp_ft_col\n",
    "\n",
    "#each ft_collection can only hold up to about 10,000 values\n",
    "ind=0\n",
    "ft_cols_list = []\n",
    "while ind < len(temp_list):\n",
    "    ft_cols_list.append(merge_ftcols(temp_list[ind:ind+10]))\n",
    "    ind+=10"
   ]
  },
  {
   "cell_type": "code",
   "execution_count": 168,
   "metadata": {
    "collapsed": true
   },
   "outputs": [
    {
     "name": "stderr",
     "output_type": "stream",
     "text": [
      "Unable to process this request.\n"
     ]
    },
    {
     "ename": "RuntimeError",
     "evalue": "Unable to process this request.\n(Error Code: 403)",
     "output_type": "error",
     "traceback": [
      "\u001b[1;31m---------------------------------------------------------------------------\u001b[0m",
      "\u001b[1;31mRuntimeError\u001b[0m                              Traceback (most recent call last)",
      "\u001b[1;32m<ipython-input-168-de6629f4f120>\u001b[0m in \u001b[0;36m<module>\u001b[1;34m()\u001b[0m\n\u001b[1;32m----> 1\u001b[1;33m \u001b[0mpts_layer\u001b[0m \u001b[1;33m=\u001b[0m \u001b[0mmerge_layers\u001b[0m\u001b[1;33m(\u001b[0m\u001b[0mpts_layer\u001b[0m\u001b[1;33m,\u001b[0m\u001b[0mtemp_list\u001b[0m\u001b[1;33m[\u001b[0m\u001b[1;36m10\u001b[0m\u001b[1;33m]\u001b[0m\u001b[1;33m)\u001b[0m\u001b[1;33m\u001b[0m\u001b[0m\n\u001b[0m",
      "\u001b[1;32m~\\Anaconda3\\lib\\site-packages\\arcgis\\features\\manage_data.py\u001b[0m in \u001b[0;36mmerge_layers\u001b[1;34m(input_layer, merge_layer, merging_attributes, output_name, context, gis)\u001b[0m\n\u001b[0;32m    130\u001b[0m         \u001b[0mmerging_attributes\u001b[0m\u001b[1;33m,\u001b[0m\u001b[1;33m\u001b[0m\u001b[0m\n\u001b[0;32m    131\u001b[0m         \u001b[0moutput_name\u001b[0m\u001b[1;33m,\u001b[0m\u001b[1;33m\u001b[0m\u001b[0m\n\u001b[1;32m--> 132\u001b[1;33m         context)\n\u001b[0m\u001b[0;32m    133\u001b[0m \u001b[1;33m\u001b[0m\u001b[0m\n\u001b[0;32m    134\u001b[0m \u001b[1;33m\u001b[0m\u001b[0m\n",
      "\u001b[1;32m~\\Anaconda3\\lib\\site-packages\\arcgis\\_impl\\tools.py\u001b[0m in \u001b[0;36mmerge_layers\u001b[1;34m(self, input_layer, merge_layer, merging_attributes, output_name, context)\u001b[0m\n\u001b[0;32m    934\u001b[0m             \u001b[0mparams\u001b[0m\u001b[1;33m[\u001b[0m\u001b[1;34m\"context\"\u001b[0m\u001b[1;33m]\u001b[0m \u001b[1;33m=\u001b[0m \u001b[0mcontext\u001b[0m\u001b[1;33m\u001b[0m\u001b[0m\n\u001b[0;32m    935\u001b[0m \u001b[1;33m\u001b[0m\u001b[0m\n\u001b[1;32m--> 936\u001b[1;33m         \u001b[0mtask_url\u001b[0m\u001b[1;33m,\u001b[0m \u001b[0mjob_info\u001b[0m\u001b[1;33m,\u001b[0m \u001b[0mjob_id\u001b[0m \u001b[1;33m=\u001b[0m \u001b[0msuper\u001b[0m\u001b[1;33m(\u001b[0m\u001b[1;33m)\u001b[0m\u001b[1;33m.\u001b[0m\u001b[0m_analysis_job\u001b[0m\u001b[1;33m(\u001b[0m\u001b[0mtask\u001b[0m\u001b[1;33m,\u001b[0m \u001b[0mparams\u001b[0m\u001b[1;33m)\u001b[0m\u001b[1;33m\u001b[0m\u001b[0m\n\u001b[0m\u001b[0;32m    937\u001b[0m \u001b[1;33m\u001b[0m\u001b[0m\n\u001b[0;32m    938\u001b[0m         \u001b[0mjob_info\u001b[0m \u001b[1;33m=\u001b[0m \u001b[0msuper\u001b[0m\u001b[1;33m(\u001b[0m\u001b[1;33m)\u001b[0m\u001b[1;33m.\u001b[0m\u001b[0m_analysis_job_status\u001b[0m\u001b[1;33m(\u001b[0m\u001b[0mtask_url\u001b[0m\u001b[1;33m,\u001b[0m \u001b[0mjob_info\u001b[0m\u001b[1;33m)\u001b[0m\u001b[1;33m\u001b[0m\u001b[0m\n",
      "\u001b[1;32m~\\Anaconda3\\lib\\site-packages\\arcgis\\_impl\\tools.py\u001b[0m in \u001b[0;36m_analysis_job\u001b[1;34m(self, task, params)\u001b[0m\n\u001b[0;32m    142\u001b[0m         \u001b[0mparams\u001b[0m\u001b[1;33m[\u001b[0m\u001b[1;34m\"f\"\u001b[0m\u001b[1;33m]\u001b[0m \u001b[1;33m=\u001b[0m \u001b[1;34m\"json\"\u001b[0m\u001b[1;33m\u001b[0m\u001b[0m\n\u001b[0;32m    143\u001b[0m \u001b[1;33m\u001b[0m\u001b[0m\n\u001b[1;32m--> 144\u001b[1;33m         \u001b[0mresp\u001b[0m \u001b[1;33m=\u001b[0m \u001b[0mself\u001b[0m\u001b[1;33m.\u001b[0m\u001b[0m_con\u001b[0m\u001b[1;33m.\u001b[0m\u001b[0mpost\u001b[0m\u001b[1;33m(\u001b[0m\u001b[0msubmit_url\u001b[0m\u001b[1;33m,\u001b[0m \u001b[0mparams\u001b[0m\u001b[1;33m,\u001b[0m \u001b[0mtoken\u001b[0m\u001b[1;33m=\u001b[0m\u001b[0mself\u001b[0m\u001b[1;33m.\u001b[0m\u001b[0m_token\u001b[0m\u001b[1;33m)\u001b[0m\u001b[1;33m\u001b[0m\u001b[0m\n\u001b[0m\u001b[0;32m    145\u001b[0m         \u001b[1;31m#print(resp)\u001b[0m\u001b[1;33m\u001b[0m\u001b[1;33m\u001b[0m\u001b[0m\n\u001b[0;32m    146\u001b[0m         \u001b[1;32mreturn\u001b[0m \u001b[0mtask_url\u001b[0m\u001b[1;33m,\u001b[0m \u001b[0mresp\u001b[0m\u001b[1;33m,\u001b[0m \u001b[0mresp\u001b[0m\u001b[1;33m[\u001b[0m\u001b[1;34m'jobId'\u001b[0m\u001b[1;33m]\u001b[0m\u001b[1;33m\u001b[0m\u001b[0m\n",
      "\u001b[1;32m~\\Anaconda3\\lib\\site-packages\\arcgis\\_impl\\connection.py\u001b[0m in \u001b[0;36mpost\u001b[1;34m(self, path, postdata, files, ssl, compress, is_retry, use_ordered_dict, add_token, verify_cert, token, try_json, out_folder, file_name, force_bytes, add_headers)\u001b[0m\n\u001b[0;32m   1151\u001b[0m                                          verify_cert=verify_cert, is_retry=True)\n\u001b[0;32m   1152\u001b[0m \u001b[1;33m\u001b[0m\u001b[0m\n\u001b[1;32m-> 1153\u001b[1;33m                 \u001b[0mself\u001b[0m\u001b[1;33m.\u001b[0m\u001b[0m_handle_json_error\u001b[0m\u001b[1;33m(\u001b[0m\u001b[0mresp_json\u001b[0m\u001b[1;33m[\u001b[0m\u001b[1;34m'error'\u001b[0m\u001b[1;33m]\u001b[0m\u001b[1;33m,\u001b[0m \u001b[0merrorcode\u001b[0m\u001b[1;33m)\u001b[0m\u001b[1;33m\u001b[0m\u001b[0m\n\u001b[0m\u001b[0;32m   1154\u001b[0m                 \u001b[1;32mreturn\u001b[0m \u001b[1;32mNone\u001b[0m\u001b[1;33m\u001b[0m\u001b[0m\n\u001b[0;32m   1155\u001b[0m         \u001b[1;32mexcept\u001b[0m \u001b[0mAttributeError\u001b[0m\u001b[1;33m:\u001b[0m\u001b[1;33m\u001b[0m\u001b[0m\n",
      "\u001b[1;32m~\\Anaconda3\\lib\\site-packages\\arcgis\\_impl\\connection.py\u001b[0m in \u001b[0;36m_handle_json_error\u001b[1;34m(self, error, errorcode)\u001b[0m\n\u001b[0;32m   1171\u001b[0m \u001b[1;33m\u001b[0m\u001b[0m\n\u001b[0;32m   1172\u001b[0m         \u001b[0merrormessage\u001b[0m \u001b[1;33m=\u001b[0m \u001b[0merrormessage\u001b[0m \u001b[1;33m+\u001b[0m \u001b[1;34m\"\\n(Error Code: \"\u001b[0m \u001b[1;33m+\u001b[0m \u001b[0mstr\u001b[0m\u001b[1;33m(\u001b[0m\u001b[0merrorcode\u001b[0m\u001b[1;33m)\u001b[0m \u001b[1;33m+\u001b[0m\u001b[1;34m\")\"\u001b[0m\u001b[1;33m\u001b[0m\u001b[0m\n\u001b[1;32m-> 1173\u001b[1;33m         \u001b[1;32mraise\u001b[0m \u001b[0mRuntimeError\u001b[0m\u001b[1;33m(\u001b[0m\u001b[0merrormessage\u001b[0m\u001b[1;33m)\u001b[0m\u001b[1;33m\u001b[0m\u001b[0m\n\u001b[0m\u001b[0;32m   1174\u001b[0m \u001b[1;33m\u001b[0m\u001b[0m\n\u001b[0;32m   1175\u001b[0m \u001b[1;32mclass\u001b[0m \u001b[0m_StrictURLopener\u001b[0m\u001b[1;33m(\u001b[0m\u001b[0mrequest\u001b[0m\u001b[1;33m.\u001b[0m\u001b[0mFancyURLopener\u001b[0m\u001b[1;33m)\u001b[0m\u001b[1;33m:\u001b[0m\u001b[1;33m\u001b[0m\u001b[0m\n",
      "\u001b[1;31mRuntimeError\u001b[0m: Unable to process this request.\n(Error Code: 403)"
     ]
    }
   ],
   "source": [
    "#ft collection can't hold more than 10 collections of 1000\n",
    "#pts_layer = merge_layers(pts_layer,temp_list[10])"
   ]
  },
  {
   "cell_type": "markdown",
   "metadata": {},
   "source": [
    "## make density maps of each point layer"
   ]
  },
  {
   "cell_type": "code",
   "execution_count": 169,
   "metadata": {},
   "outputs": [],
   "source": [
    "density_map_list = []\n",
    "for i in ft_cols_list:\n",
    "    density_map_list.append(calculate_density(i))"
   ]
  },
  {
   "cell_type": "code",
   "execution_count": 172,
   "metadata": {},
   "outputs": [],
   "source": [
    "m.add_layer(density_map)"
   ]
  },
  {
   "cell_type": "markdown",
   "metadata": {},
   "source": [
    "## Add data to the map"
   ]
  },
  {
   "cell_type": "code",
   "execution_count": 51,
   "metadata": {
    "collapsed": true
   },
   "outputs": [
    {
     "name": "stdout",
     "output_type": "stream",
     "text": [
      "adding layer# 1\n",
      "adding layer# 2\n",
      "adding layer# 3\n",
      "adding layer# 4\n",
      "adding layer# 5\n",
      "adding layer# 6\n",
      "adding layer# 7\n",
      "adding layer# 8\n",
      "adding layer# 9\n",
      "adding layer# 10\n",
      "adding layer# 11\n",
      "adding layer# 12\n",
      "adding layer# 13\n",
      "adding layer# 14\n",
      "adding layer# 15\n",
      "adding layer# 16\n",
      "adding layer# 17\n",
      "adding layer# 18\n",
      "adding layer# 19\n",
      "adding layer# 20\n",
      "adding layer# 21\n",
      "adding layer# 22\n",
      "adding layer# 23\n",
      "adding layer# 24\n",
      "adding layer# 25\n",
      "adding layer# 26\n",
      "adding layer# 27\n",
      "adding layer# 28\n",
      "adding layer# 29\n",
      "adding layer# 30\n",
      "adding layer# 31\n",
      "adding layer# 32\n",
      "adding layer# 33\n",
      "adding layer# 34\n",
      "adding layer# 35\n",
      "adding layer# 36\n",
      "adding layer# 37\n",
      "adding layer# 38\n",
      "adding layer# 39\n",
      "adding layer# 40\n",
      "adding layer# 41\n",
      "adding layer# 42\n",
      "adding layer# 43\n",
      "adding layer# 44\n",
      "adding layer# 45\n",
      "adding layer# 46\n",
      "adding layer# 47\n",
      "adding layer# 48\n",
      "adding layer# 49\n",
      "adding layer# 50\n",
      "adding layer# 51\n",
      "adding layer# 52\n",
      "adding layer# 53\n",
      "adding layer# 54\n",
      "adding layer# 55\n",
      "adding layer# 56\n",
      "adding layer# 57\n",
      "adding layer# 58\n",
      "adding layer# 59\n",
      "adding layer# 60\n",
      "adding layer# 61\n",
      "adding layer# 62\n",
      "adding layer# 63\n",
      "adding layer# 64\n",
      "adding layer# 65\n",
      "adding layer# 66\n",
      "adding layer# 67\n",
      "adding layer# 68\n",
      "adding layer# 69\n",
      "adding layer# 70\n",
      "adding layer# 71\n"
     ]
    }
   ],
   "source": [
    "#dont do this, too many feature points results in too much lag\n",
    "#a=0\n",
    "#for i in temp_list:\n",
    "#    a+=1\n",
    "#    print(\"adding layer#\",a)\n",
    "#    m.add_layer(i)\n",
    "#print(\"added all layers\")"
   ]
  },
  {
   "cell_type": "markdown",
   "metadata": {},
   "source": [
    "## Drawing point\n",
    "this draws all the points, also laggy but only on resizing/moving/drawing"
   ]
  },
  {
   "cell_type": "code",
   "execution_count": 118,
   "metadata": {},
   "outputs": [],
   "source": [
    "def draw_points_on_map(df,m):\n",
    "    for lat,lon,sat in df[['latitude','longitude','price']].values:\n",
    "        #color_value=[255,5+50*sat,0,255]\n",
    "        color_value=[255,5+50*sat,0,255]\n",
    "        m.draw({'x':lon,'y':lat}, symbol={\"color\": color_value, \"size\": m.zoom/4, \"type\": \"esriSMS\", \"style\": \"esriSMSCircle\"})\n"
   ]
  },
  {
   "cell_type": "code",
   "execution_count": 159,
   "metadata": {},
   "outputs": [],
   "source": [
    "draw_points_on_map(df[df.log_price > 2.5],m)\n"
   ]
  },
  {
   "cell_type": "code",
   "execution_count": 152,
   "metadata": {},
   "outputs": [
    {
     "name": "stderr",
     "output_type": "stream",
     "text": [
      "C:\\Users\\kukidex\\Anaconda3\\lib\\site-packages\\ipykernel_launcher.py:1: RuntimeWarning: divide by zero encountered in log10\n",
      "  \"\"\"Entry point for launching an IPython kernel.\n"
     ]
    },
    {
     "data": {
      "text/plain": [
       "3.7403626894942437"
      ]
     },
     "execution_count": 152,
     "metadata": {},
     "output_type": "execute_result"
    }
   ],
   "source": [
    "df['log_price']=np.log10(df['price'])\n",
    "df['log_price'].max()"
   ]
  },
  {
   "cell_type": "code",
   "execution_count": 221,
   "metadata": {},
   "outputs": [
    {
     "data": {
      "text/html": [
       "<div>\n",
       "<style scoped>\n",
       "    .dataframe tbody tr th:only-of-type {\n",
       "        vertical-align: middle;\n",
       "    }\n",
       "\n",
       "    .dataframe tbody tr th {\n",
       "        vertical-align: top;\n",
       "    }\n",
       "\n",
       "    .dataframe thead th {\n",
       "        text-align: right;\n",
       "    }\n",
       "</style>\n",
       "<table border=\"1\" class=\"dataframe\">\n",
       "  <thead>\n",
       "    <tr style=\"text-align: right;\">\n",
       "      <th></th>\n",
       "      <th>0.0</th>\n",
       "      <th>0.5</th>\n",
       "      <th>1.0</th>\n",
       "      <th>1.5</th>\n",
       "      <th>2.0</th>\n",
       "      <th>2.5</th>\n",
       "      <th>3.0</th>\n",
       "      <th>3.5</th>\n",
       "      <th>4.0</th>\n",
       "      <th>4.5</th>\n",
       "      <th>5.0</th>\n",
       "    </tr>\n",
       "  </thead>\n",
       "  <tbody>\n",
       "    <tr>\n",
       "      <th>2014</th>\n",
       "      <td>NaN</td>\n",
       "      <td>NaN</td>\n",
       "      <td>0.000344</td>\n",
       "      <td>NaN</td>\n",
       "      <td>0.000689</td>\n",
       "      <td>0.000689</td>\n",
       "      <td>0.007923</td>\n",
       "      <td>0.005167</td>\n",
       "      <td>0.053738</td>\n",
       "      <td>0.289011</td>\n",
       "      <td>0.642439</td>\n",
       "    </tr>\n",
       "    <tr>\n",
       "      <th>2015</th>\n",
       "      <td>NaN</td>\n",
       "      <td>NaN</td>\n",
       "      <td>0.001455</td>\n",
       "      <td>NaN</td>\n",
       "      <td>0.001983</td>\n",
       "      <td>0.001058</td>\n",
       "      <td>0.008992</td>\n",
       "      <td>0.008529</td>\n",
       "      <td>0.069818</td>\n",
       "      <td>0.296992</td>\n",
       "      <td>0.611174</td>\n",
       "    </tr>\n",
       "    <tr>\n",
       "      <th>2016</th>\n",
       "      <td>0.072465</td>\n",
       "      <td>NaN</td>\n",
       "      <td>0.000209</td>\n",
       "      <td>0.000042</td>\n",
       "      <td>0.000627</td>\n",
       "      <td>0.001129</td>\n",
       "      <td>0.004852</td>\n",
       "      <td>0.007738</td>\n",
       "      <td>0.046888</td>\n",
       "      <td>0.285699</td>\n",
       "      <td>0.580350</td>\n",
       "    </tr>\n",
       "    <tr>\n",
       "      <th>2017</th>\n",
       "      <td>0.419584</td>\n",
       "      <td>NaN</td>\n",
       "      <td>NaN</td>\n",
       "      <td>0.000024</td>\n",
       "      <td>0.000120</td>\n",
       "      <td>0.000240</td>\n",
       "      <td>0.001174</td>\n",
       "      <td>0.004889</td>\n",
       "      <td>0.023486</td>\n",
       "      <td>0.174228</td>\n",
       "      <td>0.376255</td>\n",
       "    </tr>\n",
       "  </tbody>\n",
       "</table>\n",
       "</div>"
      ],
      "text/plain": [
       "           0.0  0.5       1.0       1.5       2.0       2.5       3.0  \\\n",
       "2014       NaN  NaN  0.000344       NaN  0.000689  0.000689  0.007923   \n",
       "2015       NaN  NaN  0.001455       NaN  0.001983  0.001058  0.008992   \n",
       "2016  0.072465  NaN  0.000209  0.000042  0.000627  0.001129  0.004852   \n",
       "2017  0.419584  NaN       NaN  0.000024  0.000120  0.000240  0.001174   \n",
       "\n",
       "           3.5       4.0       4.5       5.0  \n",
       "2014  0.005167  0.053738  0.289011  0.642439  \n",
       "2015  0.008529  0.069818  0.296992  0.611174  \n",
       "2016  0.007738  0.046888  0.285699  0.580350  \n",
       "2017  0.004889  0.023486  0.174228  0.376255  "
      ]
     },
     "execution_count": 221,
     "metadata": {},
     "output_type": "execute_result"
    }
   ],
   "source": [
    "\n",
    "df_sat_counts = pd.DataFrame(index=np.arange(0.0,5.1,0.5),columns=['2014','2015','2016','2017'])\n",
    "df_sat_counts['2014']=df_2014['overall_satisfaction'].value_counts(normalize=True,dropna=True)\n",
    "df_sat_counts['2015']=df_2015['overall_satisfaction'].value_counts(normalize=True,dropna=True)\n",
    "df_sat_counts['2016']=df_2016['overall_satisfaction'].value_counts(normalize=True,dropna=True)\n",
    "df_sat_counts['2017']=df_2017['overall_satisfaction'].value_counts(normalize=True,dropna=False)\n",
    "\n",
    "df_sat_counts.T"
   ]
  },
  {
   "cell_type": "code",
   "execution_count": 207,
   "metadata": {},
   "outputs": [
    {
     "name": "stdout",
     "output_type": "stream",
     "text": [
      "2014: 4533\n",
      "2015: 20623\n",
      "2016: 76842\n",
      "2017: 41727\n"
     ]
    },
    {
     "data": {
      "image/png": "[encoded data removed]",
      "text/plain": [
       "<matplotlib.figure.Figure at 0x1d016a3d668>"
      ]
     },
     "metadata": {},
     "output_type": "display_data"
    }
   ],
   "source": [
    "counts_plot = df_sat_counts.T.plot(kind='bar', stacked=True, colormap='spring',legend=False)\n",
    "print(\"2014:\",len(df_2014))\n",
    "print(\"2015:\",len(df_2015))\n",
    "print(\"2016:\",len(df_2016))\n",
    "print(\"2017:\",len(df_2017))"
   ]
  }
 ],
 "metadata": {
  "kernelspec": {
   "display_name": "Python 3",
   "language": "python",
   "name": "python3"
  },
  "language_info": {
   "codemirror_mode": {
    "name": "ipython",
    "version": 3
   },
   "file_extension": ".py",
   "mimetype": "text/x-python",
   "name": "python",
   "nbconvert_exporter": "python",
   "pygments_lexer": "ipython3",
   "version": "3.6.3"
  }
 },
 "nbformat": 4,
 "nbformat_minor": 2
}
