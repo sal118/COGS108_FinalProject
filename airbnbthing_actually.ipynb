{
 "cells": [
  {
   "cell_type": "code",
   "execution_count": 1,
   "metadata": {
    "collapsed": true
   },
   "outputs": [],
   "source": [
    "import csv\n",
    "import pandas as pd\n",
    "# do more expensive airbnbs have better ratings than cheaper ones?? \n",
    "# expand: which area ?? "
   ]
  },
  {
   "cell_type": "code",
   "execution_count": 10,
   "metadata": {},
   "outputs": [
    {
     "name": "stdout",
     "output_type": "stream",
     "text": [
      "11.0\n",
      "2239.0\n"
     ]
    }
   ],
   "source": [
    "may_2014 = pd.read_csv(open('tomslee_airbnb_san_diego_0033_2014-05-25.csv')) #, header=None)\n",
    "november_2014 = pd.read_csv(open('tomslee_airbnb_san_diego_0063_2014-11-03.csv')) #, header=None)\n",
    
    "august_2015 = pd.read_csv(open('tomslee_airbnb_san_diego_0142_2015-08-22.csv')) #, header=None)\n",
    "october1_2015 = pd.read_csv(open('tomslee_airbnb_san_diego_0169_2015-10-03.csv')) #, header=None)\n",
    "october2_2015 = pd.read_csv(open('tomslee_airbnb_san_diego_0187_2015-10-23.csv')) #, header=None)\n",
    "december1_2015 = pd.read_csv(open('tomslee_airbnb_san_diego_0222_2015-12-03.csv')) #, header=None)\n",
    "december2_2015 = pd.read_csv(open('tomslee_airbnb_san_diego_0242_2015-12-16.csv')) #, header=None)\n",
    
    "january_2016 = pd.read_csv(open('tomslee_airbnb_san_diego_0289_2016-01-19.csv')) #, header=None)\n",
    "february_2016 = pd.read_csv(open('tomslee_airbnb_san_diego_0328_2016-02-22.csv')) #, header=None)\n",
    "march_2016 = pd.read_csv(open('tomslee_airbnb_san_diego_0351_2016-03-23.csv')) #, header=None)\n",
    "april_2016 = pd.read_csv(open('tomslee_airbnb_san_diego_0393_2016-04-18.csv')) #, header=None)\n",
    "may_2016 = pd.read_csv(open('tomslee_airbnb_san_diego_0427_2016-05-22.csv')) #, header=None)\n",
    "june_2016 = pd.read_csv(open('tomslee_airbnb_san_diego_0468_2016-06-21.csv')) #, header=None)\n",
    "july_2016 = pd.read_csv(open('tomslee_airbnb_san_diego_0496_2016-07-19.csv	')) #, header=None)\n",
    "august_2016 = pd.read_csv(open('tomslee_airbnb_san_diego_0531_2016-08-22.csv')) #, header=None)\n",
    "september_2016 = pd.read_csv(open('tomslee_airbnb_san_diego_0573_2016-09-19.csv')) #, header=None)\n",
    "october_2016 = pd.read_csv(open('tomslee_airbnb_san_diego_0617_2016-10-22.csv')) #, header=None)\n",
    "november_2016 = pd.read_csv(open('tomslee_airbnb_san_diego_0656_2016-11-25.csv')) #, header=None)\n",
    "december_2016 = pd.read_csv(open('tomslee_airbnb_san_diego_0713_2016-12-25.csv')) #, header=None)\n",
    
    "january_2017 = pd.read_csv(open('tomslee_airbnb_san_diego_0786_2017-01-15.csv')) #, header=None)\n",
    "february_2017 = pd.read_csv(open('tomslee_airbnb_san_diego_0865_2017-02-17.csv')) #, header=None)\n",
    "april_2017 = pd.read_csv(open('tomslee_airbnb_san_diego_1050_2017-04-09.csv')) #, header=None)\n",
    "may_2017 = pd.read_csv(open('tomslee_airbnb_san_diego_1194_2017-05-06.csv')) #, header=None)\n",
    "june_2017 = pd.read_csv(open('tomslee_airbnb_san_diego_1316_2017-06-11.csv')) #, header=None)\n",
    "july_2017 = pd.read_csv(open('tomslee_airbnb_san_diego_1436_2017-07-11.csv')) #, header=None)\n",
    "\n",
    "\n",
    "rood_id = dataset['room_id']\n",
    "\n",
    "\n",
    "dataset.drop(['room_id','host_id', 'borough', 'latitude', 'longitude', 'last_modified'], axis=1, inplace=True)\n",
    "\n",
    "#print(dataset)\n",
    "\n",
    "minval = dataset['price'].min()\n",
    "\n",
    "maxval = dataset['price'].max()\n",
    "\n",
    "print (minval)\n",
    "print (maxval)\n",
    "\n",
    "# drop latitude, longitude, borough, room_id, host_id, last_modified "
   ]
  },
  {
   "cell_type": "code",
   "execution_count": null,
   "metadata": {
    "collapsed": true
   },
   "outputs": [],
   "source": [
    "# create dictionary where key is neighborhood and value is number of times it popped up in listing \n",
    "# bias could be generated based off of number of reviews and corresponding satisfaction level\n",
    "# "
   ]
  }
 ],
 "metadata": {
  "kernelspec": {
   "display_name": "Python 3",
   "language": "python",
   "name": "python3"
  },
  "language_info": {
   "codemirror_mode": {
    "name": "ipython",
    "version": 3
   },
   "file_extension": ".py",
   "mimetype": "text/x-python",
   "name": "python",
   "nbconvert_exporter": "python",
   "pygments_lexer": "ipython3",
   "version": "3.6.2"
  }
 },
 "nbformat": 4,
 "nbformat_minor": 2
}
