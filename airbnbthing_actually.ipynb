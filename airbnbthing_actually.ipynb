{
 "cells": [
  {
   "cell_type": "markdown",
   "metadata": {},
   "source": [
    "# COGS108 Final Project"
   ]
  },
  {
   "cell_type": "markdown",
   "metadata": {},
   "source": [
    "## Jeremy Lin\n",
    "## Olivia Wong\n",
    "## Sandy Li\n",
    "## Jessy Ayala"
   ]
  },
  {
   "cell_type": "markdown",
   "metadata": {},
   "source": [
    "## Introduction and Background"
   ]
  },
  {
   "cell_type": "markdown",
   "metadata": {},
   "source": [
    "#### Research Question\n",
    "Is there a relationship between customer satisfaction and Airbnb prices in San Diego?\n",
    "\n",
    "#### Introduction\n",
    "San Diego is known for its sunny weather and beaches which is why numerous tourists come to San Diego for vacation. Instead of staying at pricey hotels, many people opt to rent an Airbnb. As more people want to stay in San Diego, especially during the summer, the prices of San Diego Airbnbs’ rise. We wondered if there was a correlation between customer satisfaction and Airbnb prices. Thus, our goal for this project is to determine the relationship between pricing and satisfaction levels over time. We predict since San Diego has a lot of beaches and is associated with warm climates, there will be higher pricings over Summer and lower over Winter. In addition, because people expect more over time, we predict a trend of decreasing overall satisfaction.\n",
    "\n",
    "#### Background\n",
    "Why is this question of interest?\n",
    "We chose this topic because we were interested in seeing how people give higher ratings to more expensive Airbnbs since typically, more expensive Airbnbs are nicer and thus people will give higher ratings. We were also inspired by the Uber wait time example provided in class, describing how the time clients were inclined to wait decreased by a minute each year. The example provides a sense that a customer’s expectations can change over time. We would like to see if such an effect is present for Airbnb since like Uber, it has many competitors and a very similar type of client host relationship.\n",
    "\n",
    "#### References\n",
    "      1.  https://github.com/samuelklam/airbnb-pricing-prediction \n",
    "The first reference provides data on predicting the most optimal price for Airbnb listings in New york. Furthermore, it relates to our research since we are focusing on how much people are willing to pay for an Airbnb with respect to ratings and time.\n",
    "      2.  https://github.com/ruchigupta19/Boston-Airbnb-data-analysis \n",
    "The second reference provides data on Airbnbs in Boston. More specifically, it gives insight about prices in comparison to seasons and also an analysis utilizing Airbnb reviews.\n",
    "      3.  https://www.ftc.gov/system/files/documents/public_comments/2015/06/01912-96334.pdf \n",
    "This reference provides insight to the idea of customers changing over time due to competition. What happens between Uber, Lyft, and taxis, may be happening to Airbnb, TripKey, and hotels/motels.\n",
    " \n",
    "\n",
    "#### Data Description\n",
    "Dataset Name: Airbnb san diego data\n",
    "Link to the dataset: http://tomslee.net/airbnb-data-collection-get-the-data\n",
    "        http://insideairbnb.com/get-the-data.html \n",
    "Number of observations: 152,368\n",
    "The dataset contains information about Airbnbs in San Diego from 2014 to 2017 including price, number of rooms, accommodations, neighborhood, room type, reviews, and overall satisfaction. \n",
    "\n"
   ]
  },
  {
   "cell_type": "code",
   "execution_count": 2,
   "metadata": {},
   "outputs": [],
   "source": [
    "#!conda install --yes -c esri arcgis"
   ]
  },
  {
   "cell_type": "code",
   "execution_count": 3,
   "metadata": {},
   "outputs": [
    {
     "name": "stderr",
     "output_type": "stream",
     "text": [
      "/usr/local/lib/python3.6/site-packages/statsmodels/compat/pandas.py:56: FutureWarning: The pandas.core.datetools module is deprecated and will be removed in a future version. Please use the pandas.tseries module instead.\n",
      "  from pandas.core import datetools\n"
     ]
    },
    {
     "ename": "ModuleNotFoundError",
     "evalue": "No module named 'arcgis'",
     "output_type": "error",
     "traceback": [
      "\u001b[0;31m---------------------------------------------------------------------------\u001b[0m",
      "\u001b[0;31mModuleNotFoundError\u001b[0m                       Traceback (most recent call last)",
      "\u001b[0;32m<ipython-input-3-5dc8ba42940e>\u001b[0m in \u001b[0;36m<module>\u001b[0;34m()\u001b[0m\n\u001b[1;32m      9\u001b[0m \u001b[0;32mimport\u001b[0m \u001b[0mstatsmodels\u001b[0m\u001b[0;34m.\u001b[0m\u001b[0mapi\u001b[0m \u001b[0;32mas\u001b[0m \u001b[0msm\u001b[0m\u001b[0;34m\u001b[0m\u001b[0m\n\u001b[1;32m     10\u001b[0m \u001b[0;32mimport\u001b[0m \u001b[0mscipy\u001b[0m\u001b[0;34m.\u001b[0m\u001b[0mstats\u001b[0m \u001b[0;32mas\u001b[0m \u001b[0mstats\u001b[0m\u001b[0;34m\u001b[0m\u001b[0m\n\u001b[0;32m---> 11\u001b[0;31m \u001b[0;32mimport\u001b[0m \u001b[0marcgis\u001b[0m\u001b[0;34m\u001b[0m\u001b[0m\n\u001b[0m\u001b[1;32m     12\u001b[0m \u001b[0;32mfrom\u001b[0m \u001b[0mscipy\u001b[0m\u001b[0;34m.\u001b[0m\u001b[0mstats\u001b[0m \u001b[0;32mimport\u001b[0m \u001b[0mttest_ind\u001b[0m\u001b[0;34m,\u001b[0m \u001b[0mchisquare\u001b[0m\u001b[0;34m,\u001b[0m \u001b[0mnormaltest\u001b[0m\u001b[0;34m\u001b[0m\u001b[0m\n\u001b[1;32m     13\u001b[0m \u001b[0;32mfrom\u001b[0m \u001b[0marcgis\u001b[0m \u001b[0;32mimport\u001b[0m \u001b[0;34m*\u001b[0m\u001b[0;34m\u001b[0m\u001b[0m\n",
      "\u001b[0;31mModuleNotFoundError\u001b[0m: No module named 'arcgis'"
     ]
    }
   ],
   "source": [
    "# Imports -  These are all you need for the assignment: do not import additional packages\n",
    "%matplotlib inline\n",
    "import glob\n",
    "import numpy as np\n",
    "import pandas as pd\n",
    "import matplotlib.pyplot as plt\n",
    "\n",
    "import patsy\n",
    "import statsmodels.api as sm\n",
    "import scipy.stats as stats\n",
    "import arcgis \n",
    "from scipy.stats import ttest_ind, chisquare, normaltest\n",
    "from arcgis import *\n",
    "\n",
    "\n",
    "# Note: the statsmodels import may print out a 'FutureWarning'. Thats fine.\n",
    "# do more expensive airbnbs have better ratings than cheaper ones?? \n",
    "# expand: which area ?? "
   ]
  },
  {
   "cell_type": "markdown",
   "metadata": {},
   "source": [
    "# Datasets\n",
    "## AirBnB Data"
   ]
  },
  {
   "cell_type": "markdown",
   "metadata": {},
   "source": [
    "Here we take all the csv files and read them to a list of dataframes."
   ]
  },
  {
   "cell_type": "code",
   "execution_count": 6,
   "metadata": {},
   "outputs": [],
   "source": [
    "list_2014 = []\n",
    "for i in glob.glob('./csv/2014/*.csv'):\n",
    "    list_2014.append(pd.read_csv(i))\n",
    "    \n",
    "list_2015 = []\n",
    "for i in glob.glob('./csv/2015/*.csv'):\n",
    "    list_2015.append(pd.read_csv(i))\n",
    "\n",
    "list_2016 = []\n",
    "for i in glob.glob('./csv/2016/*.csv'):\n",
    "    list_2016.append(pd.read_csv(i))\n",
    "\n",
    "list_2017 = []\n",
    "for i in glob.glob('./csv/2017/*.csv'):\n",
    "    list_2017.append(pd.read_csv(i))\n",
    "\n",
    "list_total = [list_2014,list_2015,list_2016,list_2017]\n"
   ]
  },
  {
   "cell_type": "markdown",
   "metadata": {},
   "source": [
    "## Data Cleaning and Pre-Processing"
   ]
  },
  {
   "cell_type": "markdown",
   "metadata": {},
   "source": [
    "Here we keep data with reviews and prices greater than zero, cleaning up entries that are not useful to our analysis. Since we want to determine the relationship between pricing and satisfaction levels over time, we clean up what we don't need."
   ]
  },
  {
   "cell_type": "code",
   "execution_count": 7,
   "metadata": {},
   "outputs": [],
   "source": [
    "for year in list_total:\n",
    "    year[:] = (df.dropna(subset = ['overall_satisfaction','price']) for df in year)\n",
    "    year[:] = (df[df.reviews > 0] for df in year)\n",
    "    year[:] = (df[df.price > 0] for df in year)\n",
    "    "
   ]
  },
  {
   "cell_type": "markdown",
   "metadata": {},
   "source": [
    "Here we group each dataframe with its corresponding year and then append them to a main dataframe in which we will use to analyze the data."
   ]
  },
  {
   "cell_type": "code",
   "execution_count": 8,
   "metadata": {},
   "outputs": [
    {
     "ename": "IndexError",
     "evalue": "list index out of range",
     "output_type": "error",
     "traceback": [
      "\u001b[0;31m---------------------------------------------------------------------------\u001b[0m",
      "\u001b[0;31mIndexError\u001b[0m                                Traceback (most recent call last)",
      "\u001b[0;32m<ipython-input-8-7940e55cb8eb>\u001b[0m in \u001b[0;36m<module>\u001b[0;34m()\u001b[0m\n\u001b[0;32m----> 1\u001b[0;31m \u001b[0mdf_2014\u001b[0m \u001b[0;34m=\u001b[0m \u001b[0mlist_2014\u001b[0m\u001b[0;34m[\u001b[0m\u001b[0;36m0\u001b[0m\u001b[0;34m]\u001b[0m\u001b[0;34m.\u001b[0m\u001b[0mcopy\u001b[0m\u001b[0;34m(\u001b[0m\u001b[0mdeep\u001b[0m\u001b[0;34m=\u001b[0m\u001b[0;32mTrue\u001b[0m\u001b[0;34m)\u001b[0m\u001b[0;34m\u001b[0m\u001b[0m\n\u001b[0m\u001b[1;32m      2\u001b[0m \u001b[0;32mfor\u001b[0m \u001b[0mi\u001b[0m \u001b[0;32min\u001b[0m \u001b[0mlist_2014\u001b[0m\u001b[0;34m[\u001b[0m\u001b[0;36m1\u001b[0m\u001b[0;34m:\u001b[0m\u001b[0;34m]\u001b[0m\u001b[0;34m:\u001b[0m\u001b[0;34m\u001b[0m\u001b[0m\n\u001b[1;32m      3\u001b[0m     \u001b[0mdf_2014\u001b[0m \u001b[0;34m=\u001b[0m \u001b[0mdf_2014\u001b[0m\u001b[0;34m.\u001b[0m\u001b[0mappend\u001b[0m\u001b[0;34m(\u001b[0m\u001b[0mi\u001b[0m\u001b[0;34m,\u001b[0m\u001b[0mignore_index\u001b[0m\u001b[0;34m=\u001b[0m\u001b[0;32mTrue\u001b[0m\u001b[0;34m)\u001b[0m\u001b[0;34m\u001b[0m\u001b[0m\n\u001b[1;32m      4\u001b[0m \u001b[0;34m\u001b[0m\u001b[0m\n\u001b[1;32m      5\u001b[0m \u001b[0mdf_2015\u001b[0m \u001b[0;34m=\u001b[0m \u001b[0mlist_2015\u001b[0m\u001b[0;34m[\u001b[0m\u001b[0;36m0\u001b[0m\u001b[0;34m]\u001b[0m\u001b[0;34m.\u001b[0m\u001b[0mcopy\u001b[0m\u001b[0;34m(\u001b[0m\u001b[0mdeep\u001b[0m\u001b[0;34m=\u001b[0m\u001b[0;32mTrue\u001b[0m\u001b[0;34m)\u001b[0m\u001b[0;34m\u001b[0m\u001b[0m\n",
      "\u001b[0;31mIndexError\u001b[0m: list index out of range"
     ]
    }
   ],
   "source": [
    "df_2014 = list_2014[0].copy(deep=True)\n",
    "for i in list_2014[1:]:\n",
    "    df_2014 = df_2014.append(i,ignore_index=True)\n",
    "\n",
    "df_2015 = list_2015[0].copy(deep=True)\n",
    "for i in list_2015:\n",
    "    df_2015 = df_2015.append(i,ignore_index=True)\n",
    "\n",
    "df_2016 = list_2016[0].copy(deep=True)\n",
    "for i in list_2016:\n",
    "    df_2016 = df_2016.append(i,ignore_index=True)\n",
    "\n",
    "df_2017 = list_2017[0].copy(deep=True)\n",
    "for i in list_2017:\n",
    "    df_2017 = df_2017.append(i,ignore_index=True)\n",
    "\n",
    "df = df_2014.copy(deep=True)\n",
    "df = df.append(df_2015,ignore_index=True)\n",
    "df = df.append(df_2016,ignore_index=True)\n",
    "df = df.append(df_2017,ignore_index=True)"
   ]
  },
  {
   "cell_type": "code",
   "execution_count": 9,
   "metadata": {},
   "outputs": [
    {
     "ename": "NameError",
     "evalue": "name 'df' is not defined",
     "output_type": "error",
     "traceback": [
      "\u001b[0;31m---------------------------------------------------------------------------\u001b[0m",
      "\u001b[0;31mNameError\u001b[0m                                 Traceback (most recent call last)",
      "\u001b[0;32m<ipython-input-9-00cf07b74dcd>\u001b[0m in \u001b[0;36m<module>\u001b[0;34m()\u001b[0m\n\u001b[0;32m----> 1\u001b[0;31m \u001b[0mdf\u001b[0m\u001b[0;34m\u001b[0m\u001b[0m\n\u001b[0m",
      "\u001b[0;31mNameError\u001b[0m: name 'df' is not defined"
     ]
    }
   ],
   "source": [
    "df"
   ]
  },
  {
   "cell_type": "markdown",
   "metadata": {},
   "source": [
    "## Data Visualization"
   ]
  },
  {
   "cell_type": "markdown",
   "metadata": {},
   "source": [
    "We took this code from one of last year's course projects and gave it the input of our longitude and latitude data values.\n",
    "\n",
    "Essentially we wanted to look and identify clusters in our datasets. The problem with this is even though our database is of Airbnbs in San Diego, we could not identify San Diego in this at all.\n",
    "\n",
    "https://github.com/COGS108/FinalProjects/blob/master/COGS108-Sp17-PG006.ipynb"
   ]
  },
  {
   "cell_type": "code",
   "execution_count": 34,
   "metadata": {},
   "outputs": [
    {
     "data": {
      "text/plain": [
       "Text(0,0.5,'longitude')"
      ]
     },
     "execution_count": 34,
     "metadata": {},
     "output_type": "execute_result"
    },
    {
     "data": {
      "image/png": "[encoded data removed]",
      "text/plain": [
       "<matplotlib.figure.Figure at 0x1ca860ccac8>"
      ]
     },
     "metadata": {},
     "output_type": "display_data"
    }
   ],
   "source": [
    "plt.figure(figsize=(10, 10))\n",
    "plt.scatter(df['longitude'], df['latitude'], s=0.02)\n",
    "#plt.plot(-117.242488,32.664313, 'ro')\n",
    "#plt.plot(-117.190783,32.732586, 'ro')\n",
    "\n",
    "\n",
    "axes = plt.gca()\n",
    "axes.set_xlabel('latitude')\n",
    "axes.set_ylabel('longitude')"
   ]
  },
  {
   "cell_type": "markdown",
   "metadata": {},
   "source": [
    "We found an API for live mapping called ArcGIS which handles geospatial data analysis. A lot of the heavy data handling requires another module from ArcGIS called arcpy but that costs money. We'll try to to the best we can with this"
   ]
  },
  {
   "cell_type": "code",
   "execution_count": 2,
   "metadata": {},
   "outputs": [
    {
     "ename": "NameError",
     "evalue": "name 'GIS' is not defined",
     "output_type": "error",
     "traceback": [
      "\u001b[0;31m---------------------------------------------------------------------------\u001b[0m",
      "\u001b[0;31mNameError\u001b[0m                                 Traceback (most recent call last)",
      "\u001b[0;32m<ipython-input-2-2c0dc83effe0>\u001b[0m in \u001b[0;36m<module>\u001b[0;34m()\u001b[0m\n\u001b[1;32m      1\u001b[0m \u001b[0;31m#found this on arcpy tutorials\u001b[0m\u001b[0;34m\u001b[0m\u001b[0;34m\u001b[0m\u001b[0m\n\u001b[0;32m----> 2\u001b[0;31m \u001b[0mmygis\u001b[0m \u001b[0;34m=\u001b[0m \u001b[0mGIS\u001b[0m\u001b[0;34m(\u001b[0m\u001b[0;34m\"https://www.arcgis.com\"\u001b[0m\u001b[0;34m,\u001b[0m \u001b[0;34m\"arcgis_python\"\u001b[0m\u001b[0;34m,\u001b[0m \u001b[0;34m\"P@ssword123\"\u001b[0m\u001b[0;34m)\u001b[0m\u001b[0;34m\u001b[0m\u001b[0m\n\u001b[0m",
      "\u001b[0;31mNameError\u001b[0m: name 'GIS' is not defined"
     ]
    }
   ],
   "source": [
    "#found this on arcpy tutorials\n",
    "mygis = GIS(\"https://www.arcgis.com\", \"arcgis_python\", \"P@ssword123\")"
   ]
  },
  {
   "cell_type": "markdown",
   "metadata": {},
   "source": [
    "This alters the window of the display for a better view of the data area we want to look at.\n",
    "\n",
    "For some reason this has to be run after the map has been displayed otherwise the window will not be altered."
   ]
  },
  {
   "cell_type": "code",
   "execution_count": 278,
   "metadata": {},
   "outputs": [],
   "source": [
    "m.center = [32.76,-117.15]\n",
    "m.zoom=12"
   ]
  },
  {
   "cell_type": "markdown",
   "metadata": {},
   "source": [
    "This displays a map of San Diego."
   ]
  },
  {
   "cell_type": "code",
   "execution_count": 1,
   "metadata": {},
   "outputs": [
    {
     "ename": "NameError",
     "evalue": "name 'mygis' is not defined",
     "output_type": "error",
     "traceback": [
      "\u001b[0;31m---------------------------------------------------------------------------\u001b[0m",
      "\u001b[0;31mNameError\u001b[0m                                 Traceback (most recent call last)",
      "\u001b[0;32m<ipython-input-1-4531c18a3fc5>\u001b[0m in \u001b[0;36m<module>\u001b[0;34m()\u001b[0m\n\u001b[1;32m      1\u001b[0m \u001b[0;31m#displays a map of San Diego\u001b[0m\u001b[0;34m\u001b[0m\u001b[0;34m\u001b[0m\u001b[0m\n\u001b[0;32m----> 2\u001b[0;31m \u001b[0mm\u001b[0m \u001b[0;34m=\u001b[0m \u001b[0mmygis\u001b[0m\u001b[0;34m.\u001b[0m\u001b[0mmap\u001b[0m\u001b[0;34m(\u001b[0m\u001b[0;34m'San Diego'\u001b[0m\u001b[0;34m)\u001b[0m\u001b[0;34m\u001b[0m\u001b[0m\n\u001b[0m\u001b[1;32m      3\u001b[0m \u001b[0mdisplay\u001b[0m\u001b[0;34m(\u001b[0m\u001b[0mm\u001b[0m\u001b[0;34m)\u001b[0m\u001b[0;34m\u001b[0m\u001b[0m\n",
      "\u001b[0;31mNameError\u001b[0m: name 'mygis' is not defined"
     ]
    }
   ],
   "source": [
    "m = mygis.map('San Diego')\n",
    "display(m)"
   ]
  },
  {
   "cell_type": "code",
   "execution_count": 280,
   "metadata": {},
   "outputs": [],
   "source": [
    "m.center = [32.76,-117.15]\n",
    "m.zoom=12"
   ]
  },
  {
   "cell_type": "markdown",
   "metadata": {},
   "source": [
    "### Import Data from df (processing for map)\n",
    "Arcgis has the map and on the map we can apply layers. This is similar to Photoshop layers in which we can turn them on and off/add and subtract different layers. We can import data from our dataframes for now using the gis.content.import method. One problem is that you can only import 1000 feature points into a layer at a time and a layer can only hold up to approximately 10000 features.\n",
    "\n",
    "Because of this, we can either cluster data first, or we can import multiple layers. We will do the latter. Below we are creating a list of layers each containing 1000 data points of longitude latitude coordinates."
   ]
  },
  {
   "cell_type": "code",
   "execution_count": 168,
   "metadata": {},
   "outputs": [
    {
     "name": "stdout",
     "output_type": "stream",
     "text": [
      "imported 1000 of 113402\n",
      "imported 2000 of 113402\n",
      "imported 3000 of 113402\n",
      "imported 4000 of 113402\n",
      "imported 5000 of 113402\n",
      "imported 6000 of 113402\n",
      "imported 7000 of 113402\n",
      "imported 8000 of 113402\n",
      "imported 9000 of 113402\n",
      "imported 10000 of 113402\n",
      "imported 11000 of 113402\n",
      "imported 12000 of 113402\n",
      "imported 13000 of 113402\n",
      "imported 14000 of 113402\n",
      "imported 15000 of 113402\n",
      "imported 16000 of 113402\n",
      "imported 17000 of 113402\n",
      "imported 18000 of 113402\n",
      "imported 19000 of 113402\n",
      "imported 20000 of 113402\n",
      "imported 21000 of 113402\n",
      "imported 22000 of 113402\n",
      "imported 23000 of 113402\n",
      "imported 24000 of 113402\n",
      "imported 25000 of 113402\n",
      "imported 26000 of 113402\n",
      "imported 27000 of 113402\n",
      "imported 28000 of 113402\n",
      "imported 29000 of 113402\n",
      "imported 30000 of 113402\n",
      "imported 31000 of 113402\n",
      "imported 32000 of 113402\n",
      "imported 33000 of 113402\n",
      "imported 34000 of 113402\n",
      "imported 35000 of 113402\n",
      "imported 36000 of 113402\n",
      "imported 37000 of 113402\n",
      "imported 38000 of 113402\n",
      "imported 39000 of 113402\n",
      "imported 40000 of 113402\n",
      "imported 41000 of 113402\n",
      "imported 42000 of 113402\n",
      "imported 43000 of 113402\n",
      "imported 44000 of 113402\n",
      "imported 45000 of 113402\n",
      "imported 46000 of 113402\n",
      "imported 47000 of 113402\n",
      "imported 48000 of 113402\n",
      "imported 49000 of 113402\n",
      "imported 50000 of 113402\n",
      "imported 51000 of 113402\n",
      "imported 52000 of 113402\n",
      "imported 53000 of 113402\n",
      "imported 54000 of 113402\n",
      "imported 55000 of 113402\n",
      "imported 56000 of 113402\n",
      "imported 57000 of 113402\n",
      "imported 58000 of 113402\n",
      "imported 59000 of 113402\n",
      "imported 60000 of 113402\n",
      "imported 61000 of 113402\n",
      "imported 62000 of 113402\n",
      "imported 63000 of 113402\n",
      "imported 64000 of 113402\n",
      "imported 65000 of 113402\n",
      "imported 66000 of 113402\n",
      "imported 67000 of 113402\n",
      "imported 68000 of 113402\n",
      "imported 69000 of 113402\n",
      "imported 70000 of 113402\n",
      "imported 71000 of 113402\n",
      "imported 72000 of 113402\n",
      "imported 73000 of 113402\n",
      "imported 74000 of 113402\n",
      "imported 75000 of 113402\n",
      "imported 76000 of 113402\n",
      "imported 77000 of 113402\n",
      "imported 78000 of 113402\n",
      "imported 79000 of 113402\n",
      "imported 80000 of 113402\n",
      "imported 81000 of 113402\n",
      "imported 82000 of 113402\n",
      "imported 83000 of 113402\n",
      "imported 84000 of 113402\n",
      "imported 85000 of 113402\n",
      "imported 86000 of 113402\n",
      "imported 87000 of 113402\n",
      "imported 88000 of 113402\n",
      "imported 89000 of 113402\n",
      "imported 90000 of 113402\n",
      "imported 91000 of 113402\n",
      "imported 92000 of 113402\n",
      "imported 93000 of 113402\n",
      "imported 94000 of 113402\n",
      "imported 95000 of 113402\n",
      "imported 96000 of 113402\n",
      "imported 97000 of 113402\n",
      "imported 98000 of 113402\n",
      "imported 99000 of 113402\n",
      "imported 100000 of 113402\n",
      "imported 101000 of 113402\n",
      "imported 102000 of 113402\n",
      "imported 103000 of 113402\n",
      "imported 104000 of 113402\n",
      "imported 105000 of 113402\n",
      "imported 106000 of 113402\n",
      "imported 107000 of 113402\n",
      "imported 108000 of 113402\n",
      "imported 109000 of 113402\n",
      "imported 110000 of 113402\n",
      "imported 111000 of 113402\n",
      "imported 112000 of 113402\n",
      "imported 113000 of 113402\n",
      "imported 114000 of 113402\n",
      "imported 113402 of 113402 rows\n"
     ]
    }
   ],
   "source": [
    "#import collections in sizes of 1000\n",
    "coords = df[['latitude','longitude']]\n",
    "def make_ftcols(df):\n",
    "    temp_list = []\n",
    "    i = 0\n",
    "    while i < len(df):\n",
    "        temp_list.append(mygis.content.import_data(df[i:i+1000]))\n",
    "        i += 1000\n",
    "        print(\"imported\",i,\"of\",len(coords))\n",
    "\n",
    "    print(\"imported\", len(coords),\"of\",len(coords),\"rows\")\n",
    "    return temp_list\n",
    "\n",
    "\n",
    "temp_list = make_ftcols(df)"
   ]
  },
  {
   "cell_type": "markdown",
   "metadata": {},
   "source": [
    "Since layers can each hold up to 10000 features and we have layers of 1000 features, we will begin merging the layers into a lesser amount of larger layers. We will combine 8 layers at a time, both to lower the amount of total layers, but we do not want to do 10 layers at a time since we want to avoid the possibility of a case where we accidently go over the limit due to extraneous factors(ex. 8 layers with 1000 features becomes 1 layer with 8000 features)"
   ]
  },
  {
   "cell_type": "code",
   "execution_count": 189,
   "metadata": {},
   "outputs": [],
   "source": [
    "def merge_ftcols(ftlist):\n",
    "    temp_ft_col = ftlist[0]\n",
    "    merge_count = 0;\n",
    "    for i in ftlist[1:]:\n",
    "        merge_count += 1\n",
    "        temp_ft_col = merge_layers(temp_ft_col,i,gis=mygis)\n",
    "        print(\"merged\",merge_count,\"list(s)\")\n",
    "    return temp_ft_col"
   ]
  },
  {
   "cell_type": "code",
   "execution_count": 190,
   "metadata": {
    "scrolled": true
   },
   "outputs": [
    {
     "name": "stdout",
     "output_type": "stream",
     "text": [
      "0 collections of 14 made\n",
      "merged 1 list(s)\n",
      "merged 2 list(s)\n",
      "merged 3 list(s)\n",
      "merged 4 list(s)\n",
      "merged 5 list(s)\n",
      "merged 6 list(s)\n",
      "merged 7 list(s)\n",
      "1 collections of 14 made\n",
      "merged 1 list(s)\n",
      "merged 2 list(s)\n",
      "merged 3 list(s)\n",
      "merged 4 list(s)\n",
      "merged 5 list(s)\n",
      "merged 6 list(s)\n",
      "merged 7 list(s)\n",
      "2 collections of 14 made\n",
      "merged 1 list(s)\n",
      "merged 2 list(s)\n",
      "merged 3 list(s)\n",
      "merged 4 list(s)\n",
      "merged 5 list(s)\n",
      "merged 6 list(s)\n",
      "merged 7 list(s)\n",
      "3 collections of 14 made\n",
      "merged 1 list(s)\n",
      "merged 2 list(s)\n",
      "merged 3 list(s)\n",
      "merged 4 list(s)\n",
      "merged 5 list(s)\n",
      "merged 6 list(s)\n",
      "merged 7 list(s)\n",
      "4 collections of 14 made\n",
      "merged 1 list(s)\n",
      "merged 2 list(s)\n",
      "merged 3 list(s)\n",
      "merged 4 list(s)\n",
      "merged 5 list(s)\n",
      "merged 6 list(s)\n",
      "merged 7 list(s)\n",
      "5 collections of 14 made\n",
      "merged 1 list(s)\n",
      "merged 2 list(s)\n",
      "merged 3 list(s)\n",
      "merged 4 list(s)\n",
      "merged 5 list(s)\n",
      "merged 6 list(s)\n",
      "merged 7 list(s)\n",
      "6 collections of 14 made\n",
      "merged 1 list(s)\n",
      "merged 2 list(s)\n",
      "merged 3 list(s)\n",
      "merged 4 list(s)\n",
      "merged 5 list(s)\n",
      "merged 6 list(s)\n",
      "merged 7 list(s)\n",
      "7 collections of 14 made\n",
      "merged 1 list(s)\n",
      "merged 2 list(s)\n",
      "merged 3 list(s)\n",
      "merged 4 list(s)\n",
      "merged 5 list(s)\n",
      "merged 6 list(s)\n",
      "merged 7 list(s)\n",
      "8 collections of 14 made\n",
      "merged 1 list(s)\n",
      "merged 2 list(s)\n",
      "merged 3 list(s)\n",
      "merged 4 list(s)\n",
      "merged 5 list(s)\n",
      "merged 6 list(s)\n",
      "merged 7 list(s)\n",
      "9 collections of 14 made\n",
      "merged 1 list(s)\n",
      "merged 2 list(s)\n",
      "merged 3 list(s)\n",
      "merged 4 list(s)\n",
      "merged 5 list(s)\n",
      "merged 6 list(s)\n",
      "merged 7 list(s)\n",
      "10 collections of 14 made\n",
      "merged 1 list(s)\n",
      "merged 2 list(s)\n",
      "merged 3 list(s)\n",
      "merged 4 list(s)\n",
      "merged 5 list(s)\n",
      "merged 6 list(s)\n",
      "merged 7 list(s)\n",
      "11 collections of 14 made\n",
      "merged 1 list(s)\n",
      "merged 2 list(s)\n",
      "merged 3 list(s)\n",
      "merged 4 list(s)\n",
      "merged 5 list(s)\n",
      "merged 6 list(s)\n",
      "merged 7 list(s)\n",
      "12 collections of 14 made\n",
      "merged 1 list(s)\n",
      "merged 2 list(s)\n",
      "merged 3 list(s)\n",
      "merged 4 list(s)\n",
      "merged 5 list(s)\n",
      "merged 6 list(s)\n",
      "merged 7 list(s)\n",
      "13 collections of 14 made\n",
      "merged 1 list(s)\n",
      "merged 2 list(s)\n",
      "merged 3 list(s)\n",
      "merged 4 list(s)\n",
      "merged 5 list(s)\n",
      "merged 6 list(s)\n",
      "merged 7 list(s)\n",
      "14 collections of 14 made\n",
      "merged 1 list(s)\n"
     ]
    }
   ],
   "source": [
    "# each ft_collection can only hold up to about 10,000 values, we merge in collections of 8\n",
    "ind=0\n",
    "ft_cols_list = []\n",
    "while ind < len(temp_list):\n",
    "    print(int(1 + ind/8),\"collections of\",int(len(temp_list)/8),\"made\")\n",
    "    ft_cols_list.append(merge_ftcols(temp_list[ind:ind+8]))\n",
    "    ind+=8"
   ]
  },
  {
   "cell_type": "markdown",
   "metadata": {},
   "source": [
    "### Make Density Maps of Each Point Layer\n",
    "With each layer of 10000, we can create a density map (density raster layer) based on the density of points. Areas with more points will have a darker shade while areas with less points will have heavier shading. The method calculate_density(i) returns a density raster layer that does this. \n",
    "\n",
    "Below we get a density raster layer for each of the point layers we created above. We then merge all the raster layers to create one accumulated density map that measures the entirety of the coordinate distribution of all the Airbnbs in our database."
   ]
  },
  {
   "cell_type": "code",
   "execution_count": 192,
   "metadata": {},
   "outputs": [],
   "source": [
    "density_map_list = []\n",
    "for i in ft_cols_list:\n",
    "    density_map_list.append(calculate_density(i))"
   ]
  },
  {
   "cell_type": "code",
   "execution_count": 193,
   "metadata": {},
   "outputs": [],
   "source": [
    "#merge all the density maps into one layer and add it to the map\n",
    "temp_dens_map = density_map_list[0]\n",
    "for i in density_map_list[1:]:\n",
    "    merge_layers(temp_dens_map,i)\n"
   ]
  },
  {
   "cell_type": "code",
   "execution_count": 274,
   "metadata": {},
   "outputs": [
    {
     "data": {
      "application/vnd.jupyter.widget-view+json": {
       "model_id": "24d239095e2e414a800ec8c71d7aadcb"
      }
     },
     "metadata": {},
     "output_type": "display_data"
    }
   ],
   "source": [
    "m=mygis.map('San Diego')\n",
    "display(m)"
   ]
  },
  {
   "cell_type": "code",
   "execution_count": 275,
   "metadata": {},
   "outputs": [],
   "source": [
    "#alters the window of the display for a better view of the data area we want to look at.\n",
    "#NOTE some reason this has to be run after the map has been displayed otherwise the window will not be altered\n",
    "m.add_layer(temp_dens_map)\n",
    "m.center = [32.76,-117.15]\n",
    "m.zoom=12"
   ]
  },
  {
   "cell_type": "code",
   "execution_count": 276,
   "metadata": {},
   "outputs": [],
   "source": [
    "#some reason you need to run this twice in separate cells to get to the correct position\n",
    "m.center = [32.76,-117.15]\n",
    "m.zoom=12"
   ]
  },
  {
   "cell_type": "markdown",
   "metadata": {},
   "source": [
    "### Mapping the Points\n",
    "\n",
    "This draws all the points, also laggy but only on resizing/moving/drawing. Arcgis has a draw function that will also draw points, but the difference between this and the method described directly above is that this draw function reduces the capabilities of the feature we are drawing. \n",
    "\n",
    "There is less interactibility but also less lag. It still retains the point that it needs to redraw all points if we move the map but it is not as bad. Here we draw a point for every latitude, longitude combination, and give it a color based on its overall satisfaction or its price. Yellow is higher value while Red is lower value."
   ]
  },
  {
   "cell_type": "code",
   "execution_count": 269,
   "metadata": {},
   "outputs": [],
   "source": [
    "# takes in a dataframe of 3 columns\n",
    "# first is latitude, second is longitude\n",
    "# third is a column of measure between 0 and 5\n",
    "\n",
    "def draw_points_on_map(df,m):\n",
    "    for lat,lon,val in df.values:\n",
    "        color_value=[255,int(4+50*val),0,255]\n",
    "        m.draw({'x':lon,'y':lat}, symbol={\"color\": color_value, \"size\": m.zoom/8, \"type\": \"esriSMS\", \"style\": \"esriSMSCircle\"})\n"
   ]
  },
  {
   "cell_type": "code",
   "execution_count": 257,
   "metadata": {},
   "outputs": [
    {
     "data": {
      "application/vnd.jupyter.widget-view+json": {
       "model_id": "9b060f671ea3416e8c6528011fe1cf59"
      }
     },
     "metadata": {},
     "output_type": "display_data"
    }
   ],
   "source": [
    "n = mygis.map('San Diego')\n",
    "display(n)"
   ]
  },
  {
   "cell_type": "code",
   "execution_count": 259,
   "metadata": {},
   "outputs": [],
   "source": [
    "#recenter the window\n",
    "#NOTE only do this after the map is drawn\n",
    "n.center = [32.76,-117.15]\n",
    "n.zoom=12"
   ]
  },
  {
   "cell_type": "code",
   "execution_count": 260,
   "metadata": {},
   "outputs": [],
   "source": [
    "n.center = [32.76,-117.15]\n",
    "n.zoom=12"
   ]
  },
  {
   "cell_type": "code",
   "execution_count": 261,
   "metadata": {},
   "outputs": [],
   "source": [
    "draw_points_on_map(df[['latitude','longitude','overall_satisfaction']],n)"
   ]
  },
  {
   "cell_type": "markdown",
   "metadata": {},
   "source": [
    "### Mapping prices\n",
    "\n",
    "Here we want to scale the prices so we can avoid clustering of lower level prices compared to the few very high prices."
   ]
  },
  {
   "cell_type": "code",
   "execution_count": 270,
   "metadata": {},
   "outputs": [
    {
     "data": {
      "application/vnd.jupyter.widget-view+json": {
       "model_id": "8884154cb2614250a4fa9cb2a685410e"
      }
     },
     "metadata": {},
     "output_type": "display_data"
    }
   ],
   "source": [
    "n = mygis.map('San Diego')\n",
    "display(n)"
   ]
  },
  {
   "cell_type": "code",
   "execution_count": 271,
   "metadata": {},
   "outputs": [],
   "source": [
    "n.center = [32.76,-117.15]\n",
    "n.zoom=12"
   ]
  },
  {
   "cell_type": "code",
   "execution_count": 272,
   "metadata": {},
   "outputs": [],
   "source": [
    "n.center = [32.76,-117.15]\n",
    "n.zoom=12"
   ]
  },
  {
   "cell_type": "code",
   "execution_count": 258,
   "metadata": {},
   "outputs": [],
   "source": [
    "#this also fits the measurement of prices to be between 0 and 5 so we can use it to draw points with\n",
    "df['log_price']=np.log10(df['price'])"
   ]
  },
  {
   "cell_type": "code",
   "execution_count": 273,
   "metadata": {},
   "outputs": [],
   "source": [
    "draw_points_on_map(df[['latitude','longitude','log_price']],n)"
   ]
  },
  {
   "cell_type": "markdown",
   "metadata": {},
   "source": [
    "### Visualization of satisfaction with respect to time\n",
    "So we currently have dataframes for each year. We use the df.value_counts method to see how many of each rating(0-5) we have. We give it the option normalize=True to normalize the data, meaning we make them proportions relative to full size and not their counts."
   ]
  },
  {
   "cell_type": "code",
   "execution_count": 21,
   "metadata": {},
   "outputs": [
    {
     "data": {
      "text/html": [
       "<div>\n",
       "<style scoped>\n",
       "    .dataframe tbody tr th:only-of-type {\n",
       "        vertical-align: middle;\n",
       "    }\n",
       "\n",
       "    .dataframe tbody tr th {\n",
       "        vertical-align: top;\n",
       "    }\n",
       "\n",
       "    .dataframe thead th {\n",
       "        text-align: right;\n",
       "    }\n",
       "</style>\n",
       "<table border=\"1\" class=\"dataframe\">\n",
       "  <thead>\n",
       "    <tr style=\"text-align: right;\">\n",
       "      <th></th>\n",
       "      <th>0.0</th>\n",
       "      <th>0.5</th>\n",
       "      <th>1.0</th>\n",
       "      <th>1.5</th>\n",
       "      <th>2.0</th>\n",
       "      <th>2.5</th>\n",
       "      <th>3.0</th>\n",
       "      <th>3.5</th>\n",
       "      <th>4.0</th>\n",
       "      <th>4.5</th>\n",
       "      <th>5.0</th>\n",
       "    </tr>\n",
       "  </thead>\n",
       "  <tbody>\n",
       "    <tr>\n",
       "      <th>2014</th>\n",
       "      <td>0.000000</td>\n",
       "      <td>0.0</td>\n",
       "      <td>0.000344</td>\n",
       "      <td>0.000000</td>\n",
       "      <td>0.000689</td>\n",
       "      <td>0.000689</td>\n",
       "      <td>0.007923</td>\n",
       "      <td>0.005167</td>\n",
       "      <td>0.053738</td>\n",
       "      <td>0.289011</td>\n",
       "      <td>0.642439</td>\n",
       "    </tr>\n",
       "    <tr>\n",
       "      <th>2015</th>\n",
       "      <td>0.000000</td>\n",
       "      <td>0.0</td>\n",
       "      <td>0.001478</td>\n",
       "      <td>0.000000</td>\n",
       "      <td>0.001989</td>\n",
       "      <td>0.001023</td>\n",
       "      <td>0.009093</td>\n",
       "      <td>0.008354</td>\n",
       "      <td>0.070641</td>\n",
       "      <td>0.296261</td>\n",
       "      <td>0.611162</td>\n",
       "    </tr>\n",
       "    <tr>\n",
       "      <th>2016</th>\n",
       "      <td>0.029201</td>\n",
       "      <td>0.0</td>\n",
       "      <td>0.000285</td>\n",
       "      <td>0.000061</td>\n",
       "      <td>0.000813</td>\n",
       "      <td>0.001220</td>\n",
       "      <td>0.005572</td>\n",
       "      <td>0.008012</td>\n",
       "      <td>0.050492</td>\n",
       "      <td>0.297340</td>\n",
       "      <td>0.607003</td>\n",
       "    </tr>\n",
       "    <tr>\n",
       "      <th>2017</th>\n",
       "      <td>0.224563</td>\n",
       "      <td>0.0</td>\n",
       "      <td>0.000000</td>\n",
       "      <td>0.000046</td>\n",
       "      <td>0.000160</td>\n",
       "      <td>0.000297</td>\n",
       "      <td>0.001601</td>\n",
       "      <td>0.006358</td>\n",
       "      <td>0.031241</td>\n",
       "      <td>0.232773</td>\n",
       "      <td>0.502962</td>\n",
       "    </tr>\n",
       "  </tbody>\n",
       "</table>\n",
       "</div>"
      ],
      "text/plain": [
       "           0.0  0.5       1.0       1.5       2.0       2.5       3.0  \\\n",
       "2014  0.000000  0.0  0.000344  0.000000  0.000689  0.000689  0.007923   \n",
       "2015  0.000000  0.0  0.001478  0.000000  0.001989  0.001023  0.009093   \n",
       "2016  0.029201  0.0  0.000285  0.000061  0.000813  0.001220  0.005572   \n",
       "2017  0.224563  0.0  0.000000  0.000046  0.000160  0.000297  0.001601   \n",
       "\n",
       "           3.5       4.0       4.5       5.0  \n",
       "2014  0.005167  0.053738  0.289011  0.642439  \n",
       "2015  0.008354  0.070641  0.296261  0.611162  \n",
       "2016  0.008012  0.050492  0.297340  0.607003  \n",
       "2017  0.006358  0.031241  0.232773  0.502962  "
      ]
     },
     "execution_count": 21,
     "metadata": {},
     "output_type": "execute_result"
    }
   ],
   "source": [
    "df_sat_counts = pd.DataFrame(index=np.arange(0.0,5.1,0.5),columns=['2014','2015','2016','2017'])\n",
    "df_sat_counts['2014']=df_2014['overall_satisfaction'].value_counts(normalize=True,dropna=True)\n",
    "df_sat_counts['2015']=df_2015['overall_satisfaction'].value_counts(normalize=True,dropna=True)\n",
    "df_sat_counts['2016']=df_2016['overall_satisfaction'].value_counts(normalize=True,dropna=True)\n",
    "df_sat_counts['2017']=df_2017['overall_satisfaction'].value_counts(normalize=True,dropna=True)\n",
    "\n",
    "df_sat_counts.T.fillna(0)"
   ]
  },
  {
   "cell_type": "code",
   "execution_count": 22,
   "metadata": {},
   "outputs": [
    {
     "data": {
      "image/png": "[encoded data removed]",
      "text/plain": [
       "<matplotlib.figure.Figure at 0x277f55eec50>"
      ]
     },
     "metadata": {},
     "output_type": "display_data"
    }
   ],
   "source": [
    "counts_plot = df_sat_counts.T.plot(kind='bar', stacked=True, colormap='spring',legend=False)\n"
   ]
  },
  {
   "cell_type": "markdown",
   "metadata": {},
   "source": [
    "Here we are doing the same thing as above except we are going to look closer at the data and categorize them by months."
   ]
  },
  {
   "cell_type": "code",
   "execution_count": 23,
   "metadata": {},
   "outputs": [],
   "source": [
    "# doing similar thing but for months\n",
    "df_months = pd.DataFrame(index=np.arange(0.0,5.1,0.5))\n",
    "for i,d in enumerate(list_total):\n",
    "    for j,e in enumerate(d):\n",
    "        #e = e[e.reviews > 5]\n",
    "        \n",
    "        label = str(i) + str(j);\n",
    "        df_months[str(31*i+j)] = e['overall_satisfaction'].value_counts(normalize=True,dropna=True)\n",
    "df_months.columns = ['may_2014','november_2014','august_2015','october1_2015','october2_2015','december1_2015','december2_2015','january_2016','february_2016','march_2016','april_2016','may_2016','june_2016','july_2016','august_2016','september_2016','october_2016','november_2016','december_2016','january_2017','february_2017','april_2017','may_2017','june_2017','july_2017']"
   ]
  },
  {
   "cell_type": "code",
   "execution_count": 24,
   "metadata": {},
   "outputs": [
    {
     "data": {
      "text/html": [
       "<div>\n",
       "<style scoped>\n",
       "    .dataframe tbody tr th:only-of-type {\n",
       "        vertical-align: middle;\n",
       "    }\n",
       "\n",
       "    .dataframe tbody tr th {\n",
       "        vertical-align: top;\n",
       "    }\n",
       "\n",
       "    .dataframe thead th {\n",
       "        text-align: right;\n",
       "    }\n",
       "</style>\n",
       "<table border=\"1\" class=\"dataframe\">\n",
       "  <thead>\n",
       "    <tr style=\"text-align: right;\">\n",
       "      <th></th>\n",
       "      <th>may_2014</th>\n",
       "      <th>november_2014</th>\n",
       "      <th>august_2015</th>\n",
       "      <th>october1_2015</th>\n",
       "      <th>october2_2015</th>\n",
       "      <th>december1_2015</th>\n",
       "      <th>december2_2015</th>\n",
       "      <th>january_2016</th>\n",
       "      <th>february_2016</th>\n",
       "      <th>march_2016</th>\n",
       "      <th>...</th>\n",
       "      <th>september_2016</th>\n",
       "      <th>october_2016</th>\n",
       "      <th>november_2016</th>\n",
       "      <th>december_2016</th>\n",
       "      <th>january_2017</th>\n",
       "      <th>february_2017</th>\n",
       "      <th>april_2017</th>\n",
       "      <th>may_2017</th>\n",
       "      <th>june_2017</th>\n",
       "      <th>july_2017</th>\n",
       "    </tr>\n",
       "  </thead>\n",
       "  <tbody>\n",
       "    <tr>\n",
       "      <th>0.0</th>\n",
       "      <td>0.000000</td>\n",
       "      <td>0.000000</td>\n",
       "      <td>0.000000</td>\n",
       "      <td>0.000000</td>\n",
       "      <td>0.000000</td>\n",
       "      <td>0.000000</td>\n",
       "      <td>0.000000</td>\n",
       "      <td>0.000000</td>\n",
       "      <td>0.000000</td>\n",
       "      <td>0.000000</td>\n",
       "      <td>...</td>\n",
       "      <td>0.000000</td>\n",
       "      <td>0.000000</td>\n",
       "      <td>0.000000</td>\n",
       "      <td>0.239293</td>\n",
       "      <td>0.237302</td>\n",
       "      <td>0.236093</td>\n",
       "      <td>0.221129</td>\n",
       "      <td>0.213340</td>\n",
       "      <td>0.215315</td>\n",
       "      <td>0.213699</td>\n",
       "    </tr>\n",
       "    <tr>\n",
       "      <th>0.5</th>\n",
       "      <td>0.000000</td>\n",
       "      <td>0.000000</td>\n",
       "      <td>0.000000</td>\n",
       "      <td>0.000000</td>\n",
       "      <td>0.000000</td>\n",
       "      <td>0.000000</td>\n",
       "      <td>0.000000</td>\n",
       "      <td>0.000000</td>\n",
       "      <td>0.000000</td>\n",
       "      <td>0.000000</td>\n",
       "      <td>...</td>\n",
       "      <td>0.000000</td>\n",
       "      <td>0.000000</td>\n",
       "      <td>0.000000</td>\n",
       "      <td>0.000000</td>\n",
       "      <td>0.000000</td>\n",
       "      <td>0.000000</td>\n",
       "      <td>0.000000</td>\n",
       "      <td>0.000000</td>\n",
       "      <td>0.000000</td>\n",
       "      <td>0.000000</td>\n",
       "    </tr>\n",
       "    <tr>\n",
       "      <th>1.0</th>\n",
       "      <td>0.000000</td>\n",
       "      <td>0.000563</td>\n",
       "      <td>0.001612</td>\n",
       "      <td>0.001325</td>\n",
       "      <td>0.001584</td>\n",
       "      <td>0.001243</td>\n",
       "      <td>0.001543</td>\n",
       "      <td>0.001180</td>\n",
       "      <td>0.000873</td>\n",
       "      <td>0.000848</td>\n",
       "      <td>...</td>\n",
       "      <td>0.000000</td>\n",
       "      <td>0.000000</td>\n",
       "      <td>0.000000</td>\n",
       "      <td>0.000000</td>\n",
       "      <td>0.000000</td>\n",
       "      <td>0.000000</td>\n",
       "      <td>0.000000</td>\n",
       "      <td>0.000000</td>\n",
       "      <td>0.000000</td>\n",
       "      <td>0.000000</td>\n",
       "    </tr>\n",
       "    <tr>\n",
       "      <th>1.5</th>\n",
       "      <td>0.000000</td>\n",
       "      <td>0.000000</td>\n",
       "      <td>0.000000</td>\n",
       "      <td>0.000000</td>\n",
       "      <td>0.000000</td>\n",
       "      <td>0.000000</td>\n",
       "      <td>0.000000</td>\n",
       "      <td>0.000295</td>\n",
       "      <td>0.000000</td>\n",
       "      <td>0.000000</td>\n",
       "      <td>...</td>\n",
       "      <td>0.000000</td>\n",
       "      <td>0.000000</td>\n",
       "      <td>0.000000</td>\n",
       "      <td>0.000167</td>\n",
       "      <td>0.000165</td>\n",
       "      <td>0.000000</td>\n",
       "      <td>0.000000</td>\n",
       "      <td>0.000000</td>\n",
       "      <td>0.000000</td>\n",
       "      <td>0.000000</td>\n",
       "    </tr>\n",
       "    <tr>\n",
       "      <th>2.0</th>\n",
       "      <td>0.000000</td>\n",
       "      <td>0.001126</td>\n",
       "      <td>0.002015</td>\n",
       "      <td>0.002650</td>\n",
       "      <td>0.001901</td>\n",
       "      <td>0.001243</td>\n",
       "      <td>0.002160</td>\n",
       "      <td>0.002950</td>\n",
       "      <td>0.002910</td>\n",
       "      <td>0.002826</td>\n",
       "      <td>...</td>\n",
       "      <td>0.000000</td>\n",
       "      <td>0.000000</td>\n",
       "      <td>0.000000</td>\n",
       "      <td>0.000000</td>\n",
       "      <td>0.000000</td>\n",
       "      <td>0.000166</td>\n",
       "      <td>0.000164</td>\n",
       "      <td>0.000323</td>\n",
       "      <td>0.000310</td>\n",
       "      <td>0.000147</td>\n",
       "    </tr>\n",
       "    <tr>\n",
       "      <th>2.5</th>\n",
       "      <td>0.000000</td>\n",
       "      <td>0.001126</td>\n",
       "      <td>0.000806</td>\n",
       "      <td>0.000994</td>\n",
       "      <td>0.000950</td>\n",
       "      <td>0.001243</td>\n",
       "      <td>0.001235</td>\n",
       "      <td>0.001770</td>\n",
       "      <td>0.002037</td>\n",
       "      <td>0.001978</td>\n",
       "      <td>...</td>\n",
       "      <td>0.000486</td>\n",
       "      <td>0.000235</td>\n",
       "      <td>0.000447</td>\n",
       "      <td>0.000500</td>\n",
       "      <td>0.000330</td>\n",
       "      <td>0.000331</td>\n",
       "      <td>0.000492</td>\n",
       "      <td>0.000323</td>\n",
       "      <td>0.000155</td>\n",
       "      <td>0.000147</td>\n",
       "    </tr>\n",
       "    <tr>\n",
       "      <th>3.0</th>\n",
       "      <td>0.002662</td>\n",
       "      <td>0.011261</td>\n",
       "      <td>0.009674</td>\n",
       "      <td>0.007618</td>\n",
       "      <td>0.009186</td>\n",
       "      <td>0.008390</td>\n",
       "      <td>0.010185</td>\n",
       "      <td>0.012389</td>\n",
       "      <td>0.011350</td>\n",
       "      <td>0.009607</td>\n",
       "      <td>...</td>\n",
       "      <td>0.003642</td>\n",
       "      <td>0.003994</td>\n",
       "      <td>0.002685</td>\n",
       "      <td>0.002333</td>\n",
       "      <td>0.002144</td>\n",
       "      <td>0.001987</td>\n",
       "      <td>0.001476</td>\n",
       "      <td>0.001292</td>\n",
       "      <td>0.001240</td>\n",
       "      <td>0.001027</td>\n",
       "    </tr>\n",
       "    <tr>\n",
       "      <th>3.5</th>\n",
       "      <td>0.007098</td>\n",
       "      <td>0.003941</td>\n",
       "      <td>0.007255</td>\n",
       "      <td>0.008281</td>\n",
       "      <td>0.008869</td>\n",
       "      <td>0.009323</td>\n",
       "      <td>0.008642</td>\n",
       "      <td>0.007080</td>\n",
       "      <td>0.006694</td>\n",
       "      <td>0.006782</td>\n",
       "      <td>...</td>\n",
       "      <td>0.009954</td>\n",
       "      <td>0.009398</td>\n",
       "      <td>0.008054</td>\n",
       "      <td>0.007499</td>\n",
       "      <td>0.006926</td>\n",
       "      <td>0.006623</td>\n",
       "      <td>0.007218</td>\n",
       "      <td>0.006621</td>\n",
       "      <td>0.004960</td>\n",
       "      <td>0.005427</td>\n",
       "    </tr>\n",
       "    <tr>\n",
       "      <th>4.0</th>\n",
       "      <td>0.027507</td>\n",
       "      <td>0.070383</td>\n",
       "      <td>0.076179</td>\n",
       "      <td>0.069559</td>\n",
       "      <td>0.072220</td>\n",
       "      <td>0.067122</td>\n",
       "      <td>0.065123</td>\n",
       "      <td>0.071091</td>\n",
       "      <td>0.070140</td>\n",
       "      <td>0.070641</td>\n",
       "      <td>...</td>\n",
       "      <td>0.043457</td>\n",
       "      <td>0.044173</td>\n",
       "      <td>0.046085</td>\n",
       "      <td>0.034661</td>\n",
       "      <td>0.034631</td>\n",
       "      <td>0.035099</td>\n",
       "      <td>0.031168</td>\n",
       "      <td>0.030039</td>\n",
       "      <td>0.027283</td>\n",
       "      <td>0.026694</td>\n",
       "    </tr>\n",
       "    <tr>\n",
       "      <th>4.5</th>\n",
       "      <td>0.280390</td>\n",
       "      <td>0.294482</td>\n",
       "      <td>0.291012</td>\n",
       "      <td>0.298774</td>\n",
       "      <td>0.296801</td>\n",
       "      <td>0.298322</td>\n",
       "      <td>0.299383</td>\n",
       "      <td>0.283481</td>\n",
       "      <td>0.281432</td>\n",
       "      <td>0.278327</td>\n",
       "      <td>...</td>\n",
       "      <td>0.315611</td>\n",
       "      <td>0.306156</td>\n",
       "      <td>0.307830</td>\n",
       "      <td>0.234461</td>\n",
       "      <td>0.240270</td>\n",
       "      <td>0.237748</td>\n",
       "      <td>0.231463</td>\n",
       "      <td>0.228682</td>\n",
       "      <td>0.224926</td>\n",
       "      <td>0.227339</td>\n",
       "    </tr>\n",
       "    <tr>\n",
       "      <th>5.0</th>\n",
       "      <td>0.682343</td>\n",
       "      <td>0.617117</td>\n",
       "      <td>0.611447</td>\n",
       "      <td>0.610798</td>\n",
       "      <td>0.608489</td>\n",
       "      <td>0.613114</td>\n",
       "      <td>0.611728</td>\n",
       "      <td>0.619764</td>\n",
       "      <td>0.624563</td>\n",
       "      <td>0.628991</td>\n",
       "      <td>...</td>\n",
       "      <td>0.626851</td>\n",
       "      <td>0.636043</td>\n",
       "      <td>0.634899</td>\n",
       "      <td>0.481086</td>\n",
       "      <td>0.478232</td>\n",
       "      <td>0.481954</td>\n",
       "      <td>0.506890</td>\n",
       "      <td>0.519380</td>\n",
       "      <td>0.525810</td>\n",
       "      <td>0.525521</td>\n",
       "    </tr>\n",
       "  </tbody>\n",
       "</table>\n",
       "<p>11 rows × 25 columns</p>\n",
       "</div>"
      ],
      "text/plain": [
       "     may_2014  november_2014  august_2015  october1_2015  october2_2015  \\\n",
       "0.0  0.000000       0.000000     0.000000       0.000000       0.000000   \n",
       "0.5  0.000000       0.000000     0.000000       0.000000       0.000000   \n",
       "1.0  0.000000       0.000563     0.001612       0.001325       0.001584   \n",
       "1.5  0.000000       0.000000     0.000000       0.000000       0.000000   \n",
       "2.0  0.000000       0.001126     0.002015       0.002650       0.001901   \n",
       "2.5  0.000000       0.001126     0.000806       0.000994       0.000950   \n",
       "3.0  0.002662       0.011261     0.009674       0.007618       0.009186   \n",
       "3.5  0.007098       0.003941     0.007255       0.008281       0.008869   \n",
       "4.0  0.027507       0.070383     0.076179       0.069559       0.072220   \n",
       "4.5  0.280390       0.294482     0.291012       0.298774       0.296801   \n",
       "5.0  0.682343       0.617117     0.611447       0.610798       0.608489   \n",
       "\n",
       "     december1_2015  december2_2015  january_2016  february_2016  march_2016  \\\n",
       "0.0        0.000000        0.000000      0.000000       0.000000    0.000000   \n",
       "0.5        0.000000        0.000000      0.000000       0.000000    0.000000   \n",
       "1.0        0.001243        0.001543      0.001180       0.000873    0.000848   \n",
       "1.5        0.000000        0.000000      0.000295       0.000000    0.000000   \n",
       "2.0        0.001243        0.002160      0.002950       0.002910    0.002826   \n",
       "2.5        0.001243        0.001235      0.001770       0.002037    0.001978   \n",
       "3.0        0.008390        0.010185      0.012389       0.011350    0.009607   \n",
       "3.5        0.009323        0.008642      0.007080       0.006694    0.006782   \n",
       "4.0        0.067122        0.065123      0.071091       0.070140    0.070641   \n",
       "4.5        0.298322        0.299383      0.283481       0.281432    0.278327   \n",
       "5.0        0.613114        0.611728      0.619764       0.624563    0.628991   \n",
       "\n",
       "       ...      september_2016  october_2016  november_2016  december_2016  \\\n",
       "0.0    ...            0.000000      0.000000       0.000000       0.239293   \n",
       "0.5    ...            0.000000      0.000000       0.000000       0.000000   \n",
       "1.0    ...            0.000000      0.000000       0.000000       0.000000   \n",
       "1.5    ...            0.000000      0.000000       0.000000       0.000167   \n",
       "2.0    ...            0.000000      0.000000       0.000000       0.000000   \n",
       "2.5    ...            0.000486      0.000235       0.000447       0.000500   \n",
       "3.0    ...            0.003642      0.003994       0.002685       0.002333   \n",
       "3.5    ...            0.009954      0.009398       0.008054       0.007499   \n",
       "4.0    ...            0.043457      0.044173       0.046085       0.034661   \n",
       "4.5    ...            0.315611      0.306156       0.307830       0.234461   \n",
       "5.0    ...            0.626851      0.636043       0.634899       0.481086   \n",
       "\n",
       "     january_2017  february_2017  april_2017  may_2017  june_2017  july_2017  \n",
       "0.0      0.237302       0.236093    0.221129  0.213340   0.215315   0.213699  \n",
       "0.5      0.000000       0.000000    0.000000  0.000000   0.000000   0.000000  \n",
       "1.0      0.000000       0.000000    0.000000  0.000000   0.000000   0.000000  \n",
       "1.5      0.000165       0.000000    0.000000  0.000000   0.000000   0.000000  \n",
       "2.0      0.000000       0.000166    0.000164  0.000323   0.000310   0.000147  \n",
       "2.5      0.000330       0.000331    0.000492  0.000323   0.000155   0.000147  \n",
       "3.0      0.002144       0.001987    0.001476  0.001292   0.001240   0.001027  \n",
       "3.5      0.006926       0.006623    0.007218  0.006621   0.004960   0.005427  \n",
       "4.0      0.034631       0.035099    0.031168  0.030039   0.027283   0.026694  \n",
       "4.5      0.240270       0.237748    0.231463  0.228682   0.224926   0.227339  \n",
       "5.0      0.478232       0.481954    0.506890  0.519380   0.525810   0.525521  \n",
       "\n",
       "[11 rows x 25 columns]"
      ]
     },
     "execution_count": 24,
     "metadata": {},
     "output_type": "execute_result"
    }
   ],
   "source": [
    "#replace all NaNs with 0s\n",
    "df_months = df_months.fillna(0)\n",
    "df_months"
   ]
  },
  {
   "cell_type": "code",
   "execution_count": 25,
   "metadata": {
    "scrolled": true
   },
   "outputs": [
    {
     "data": {
      "image/png": "[encoded data removed]",
      "text/plain": [
       "<matplotlib.figure.Figure at 0x277f578bcf8>"
      ]
     },
     "metadata": {},
     "output_type": "display_data"
    }
   ],
   "source": [
    "months_sat_plot = df_months.T.plot(kind='bar', stacked=True, colormap='RdYlBu_r',legend=True)\n"
   ]
  },
  {
   "cell_type": "markdown",
   "metadata": {},
   "source": [
    "Notice that the amount of 0.0 values for overall satisfaction largely increases after december 2016. However, when we filter the data by removing values with reviews less than 5, this drastically changes. Notice how values after december 2016 are farm more normal. Below we repeat the process from above but with a filtering on the data."
   ]
  },
  {
   "cell_type": "code",
   "execution_count": 26,
   "metadata": {},
   "outputs": [
    {
     "data": {
      "text/html": [
       "<div>\n",
       "<style scoped>\n",
       "    .dataframe tbody tr th:only-of-type {\n",
       "        vertical-align: middle;\n",
       "    }\n",
       "\n",
       "    .dataframe tbody tr th {\n",
       "        vertical-align: top;\n",
       "    }\n",
       "\n",
       "    .dataframe thead th {\n",
       "        text-align: right;\n",
       "    }\n",
       "</style>\n",
       "<table border=\"1\" class=\"dataframe\">\n",
       "  <thead>\n",
       "    <tr style=\"text-align: right;\">\n",
       "      <th></th>\n",
       "      <th>may_2014</th>\n",
       "      <th>november_2014</th>\n",
       "      <th>august_2015</th>\n",
       "      <th>october1_2015</th>\n",
       "      <th>october2_2015</th>\n",
       "      <th>december1_2015</th>\n",
       "      <th>december2_2015</th>\n",
       "      <th>january_2016</th>\n",
       "      <th>february_2016</th>\n",
       "      <th>march_2016</th>\n",
       "      <th>...</th>\n",
       "      <th>september_2016</th>\n",
       "      <th>october_2016</th>\n",
       "      <th>november_2016</th>\n",
       "      <th>december_2016</th>\n",
       "      <th>january_2017</th>\n",
       "      <th>february_2017</th>\n",
       "      <th>april_2017</th>\n",
       "      <th>may_2017</th>\n",
       "      <th>june_2017</th>\n",
       "      <th>july_2017</th>\n",
       "    </tr>\n",
       "  </thead>\n",
       "  <tbody>\n",
       "    <tr>\n",
       "      <th>0.0</th>\n",
       "      <td>0.000000</td>\n",
       "      <td>0.000000</td>\n",
       "      <td>0.000000</td>\n",
       "      <td>0.000000</td>\n",
       "      <td>0.000000</td>\n",
       "      <td>0.000000</td>\n",
       "      <td>0.000000</td>\n",
       "      <td>0.000000</td>\n",
       "      <td>0.000000</td>\n",
       "      <td>0.000000</td>\n",
       "      <td>...</td>\n",
       "      <td>0.000000</td>\n",
       "      <td>0.000000</td>\n",
       "      <td>0.000000</td>\n",
       "      <td>0.000260</td>\n",
       "      <td>0.000000</td>\n",
       "      <td>0.000000</td>\n",
       "      <td>0.000000</td>\n",
       "      <td>0.000000</td>\n",
       "      <td>0.000000</td>\n",
       "      <td>0.000000</td>\n",
       "    </tr>\n",
       "    <tr>\n",
       "      <th>0.5</th>\n",
       "      <td>0.000000</td>\n",
       "      <td>0.000000</td>\n",
       "      <td>0.000000</td>\n",
       "      <td>0.000000</td>\n",
       "      <td>0.000000</td>\n",
       "      <td>0.000000</td>\n",
       "      <td>0.000000</td>\n",
       "      <td>0.000000</td>\n",
       "      <td>0.000000</td>\n",
       "      <td>0.000000</td>\n",
       "      <td>...</td>\n",
       "      <td>0.000000</td>\n",
       "      <td>0.000000</td>\n",
       "      <td>0.000000</td>\n",
       "      <td>0.000000</td>\n",
       "      <td>0.000000</td>\n",
       "      <td>0.000000</td>\n",
       "      <td>0.000000</td>\n",
       "      <td>0.000000</td>\n",
       "      <td>0.000000</td>\n",
       "      <td>0.000000</td>\n",
       "    </tr>\n",
       "    <tr>\n",
       "      <th>1.0</th>\n",
       "      <td>0.000000</td>\n",
       "      <td>0.000000</td>\n",
       "      <td>0.000000</td>\n",
       "      <td>0.000000</td>\n",
       "      <td>0.000000</td>\n",
       "      <td>0.000000</td>\n",
       "      <td>0.000000</td>\n",
       "      <td>0.000000</td>\n",
       "      <td>0.000000</td>\n",
       "      <td>0.000000</td>\n",
       "      <td>...</td>\n",
       "      <td>0.000000</td>\n",
       "      <td>0.000000</td>\n",
       "      <td>0.000000</td>\n",
       "      <td>0.000000</td>\n",
       "      <td>0.000000</td>\n",
       "      <td>0.000000</td>\n",
       "      <td>0.000000</td>\n",
       "      <td>0.000000</td>\n",
       "      <td>0.000000</td>\n",
       "      <td>0.000000</td>\n",
       "    </tr>\n",
       "    <tr>\n",
       "      <th>1.5</th>\n",
       "      <td>0.000000</td>\n",
       "      <td>0.000000</td>\n",
       "      <td>0.000000</td>\n",
       "      <td>0.000000</td>\n",
       "      <td>0.000000</td>\n",
       "      <td>0.000000</td>\n",
       "      <td>0.000000</td>\n",
       "      <td>0.000000</td>\n",
       "      <td>0.000000</td>\n",
       "      <td>0.000000</td>\n",
       "      <td>...</td>\n",
       "      <td>0.000000</td>\n",
       "      <td>0.000000</td>\n",
       "      <td>0.000000</td>\n",
       "      <td>0.000000</td>\n",
       "      <td>0.000000</td>\n",
       "      <td>0.000000</td>\n",
       "      <td>0.000000</td>\n",
       "      <td>0.000000</td>\n",
       "      <td>0.000000</td>\n",
       "      <td>0.000000</td>\n",
       "    </tr>\n",
       "    <tr>\n",
       "      <th>2.0</th>\n",
       "      <td>0.000000</td>\n",
       "      <td>0.000000</td>\n",
       "      <td>0.000000</td>\n",
       "      <td>0.000000</td>\n",
       "      <td>0.000000</td>\n",
       "      <td>0.000000</td>\n",
       "      <td>0.000000</td>\n",
       "      <td>0.000000</td>\n",
       "      <td>0.000000</td>\n",
       "      <td>0.000000</td>\n",
       "      <td>...</td>\n",
       "      <td>0.000000</td>\n",
       "      <td>0.000000</td>\n",
       "      <td>0.000000</td>\n",
       "      <td>0.000000</td>\n",
       "      <td>0.000000</td>\n",
       "      <td>0.000000</td>\n",
       "      <td>0.000000</td>\n",
       "      <td>0.000000</td>\n",
       "      <td>0.000230</td>\n",
       "      <td>0.000000</td>\n",
       "    </tr>\n",
       "    <tr>\n",
       "      <th>2.5</th>\n",
       "      <td>0.000000</td>\n",
       "      <td>0.000000</td>\n",
       "      <td>0.000000</td>\n",
       "      <td>0.000000</td>\n",
       "      <td>0.000000</td>\n",
       "      <td>0.000000</td>\n",
       "      <td>0.000000</td>\n",
       "      <td>0.000470</td>\n",
       "      <td>0.000460</td>\n",
       "      <td>0.000445</td>\n",
       "      <td>...</td>\n",
       "      <td>0.000000</td>\n",
       "      <td>0.000000</td>\n",
       "      <td>0.000000</td>\n",
       "      <td>0.000000</td>\n",
       "      <td>0.000000</td>\n",
       "      <td>0.000000</td>\n",
       "      <td>0.000000</td>\n",
       "      <td>0.000000</td>\n",
       "      <td>0.000000</td>\n",
       "      <td>0.000000</td>\n",
       "    </tr>\n",
       "    <tr>\n",
       "      <th>3.0</th>\n",
       "      <td>0.001592</td>\n",
       "      <td>0.000000</td>\n",
       "      <td>0.003262</td>\n",
       "      <td>0.003181</td>\n",
       "      <td>0.003035</td>\n",
       "      <td>0.002447</td>\n",
       "      <td>0.002901</td>\n",
       "      <td>0.003758</td>\n",
       "      <td>0.003218</td>\n",
       "      <td>0.002668</td>\n",
       "      <td>...</td>\n",
       "      <td>0.001165</td>\n",
       "      <td>0.001677</td>\n",
       "      <td>0.001328</td>\n",
       "      <td>0.001819</td>\n",
       "      <td>0.001545</td>\n",
       "      <td>0.001292</td>\n",
       "      <td>0.000493</td>\n",
       "      <td>0.000482</td>\n",
       "      <td>0.000691</td>\n",
       "      <td>0.000650</td>\n",
       "    </tr>\n",
       "    <tr>\n",
       "      <th>3.5</th>\n",
       "      <td>0.000000</td>\n",
       "      <td>0.001965</td>\n",
       "      <td>0.003914</td>\n",
       "      <td>0.004242</td>\n",
       "      <td>0.004047</td>\n",
       "      <td>0.003426</td>\n",
       "      <td>0.002418</td>\n",
       "      <td>0.002818</td>\n",
       "      <td>0.001839</td>\n",
       "      <td>0.004002</td>\n",
       "      <td>...</td>\n",
       "      <td>0.005535</td>\n",
       "      <td>0.005032</td>\n",
       "      <td>0.003719</td>\n",
       "      <td>0.004678</td>\n",
       "      <td>0.004892</td>\n",
       "      <td>0.005169</td>\n",
       "      <td>0.005172</td>\n",
       "      <td>0.004820</td>\n",
       "      <td>0.004147</td>\n",
       "      <td>0.003469</td>\n",
       "    </tr>\n",
       "    <tr>\n",
       "      <th>4.0</th>\n",
       "      <td>0.006369</td>\n",
       "      <td>0.041257</td>\n",
       "      <td>0.046314</td>\n",
       "      <td>0.039236</td>\n",
       "      <td>0.040465</td>\n",
       "      <td>0.037200</td>\n",
       "      <td>0.036750</td>\n",
       "      <td>0.036167</td>\n",
       "      <td>0.037701</td>\n",
       "      <td>0.037795</td>\n",
       "      <td>...</td>\n",
       "      <td>0.038742</td>\n",
       "      <td>0.038859</td>\n",
       "      <td>0.040117</td>\n",
       "      <td>0.040281</td>\n",
       "      <td>0.040165</td>\n",
       "      <td>0.038770</td>\n",
       "      <td>0.035714</td>\n",
       "      <td>0.032779</td>\n",
       "      <td>0.029263</td>\n",
       "      <td>0.029055</td>\n",
       "    </tr>\n",
       "    <tr>\n",
       "      <th>4.5</th>\n",
       "      <td>0.292994</td>\n",
       "      <td>0.361493</td>\n",
       "      <td>0.352903</td>\n",
       "      <td>0.352068</td>\n",
       "      <td>0.349519</td>\n",
       "      <td>0.356828</td>\n",
       "      <td>0.356867</td>\n",
       "      <td>0.337248</td>\n",
       "      <td>0.333333</td>\n",
       "      <td>0.328146</td>\n",
       "      <td>...</td>\n",
       "      <td>0.312263</td>\n",
       "      <td>0.303327</td>\n",
       "      <td>0.308714</td>\n",
       "      <td>0.307173</td>\n",
       "      <td>0.315139</td>\n",
       "      <td>0.312225</td>\n",
       "      <td>0.297783</td>\n",
       "      <td>0.293806</td>\n",
       "      <td>0.286866</td>\n",
       "      <td>0.291414</td>\n",
       "    </tr>\n",
       "    <tr>\n",
       "      <th>5.0</th>\n",
       "      <td>0.699045</td>\n",
       "      <td>0.595285</td>\n",
       "      <td>0.593607</td>\n",
       "      <td>0.601273</td>\n",
       "      <td>0.602934</td>\n",
       "      <td>0.600098</td>\n",
       "      <td>0.601064</td>\n",
       "      <td>0.619540</td>\n",
       "      <td>0.623448</td>\n",
       "      <td>0.626945</td>\n",
       "      <td>...</td>\n",
       "      <td>0.642295</td>\n",
       "      <td>0.651104</td>\n",
       "      <td>0.646121</td>\n",
       "      <td>0.645790</td>\n",
       "      <td>0.638260</td>\n",
       "      <td>0.642543</td>\n",
       "      <td>0.660837</td>\n",
       "      <td>0.668113</td>\n",
       "      <td>0.678802</td>\n",
       "      <td>0.675412</td>\n",
       "    </tr>\n",
       "  </tbody>\n",
       "</table>\n",
       "<p>11 rows × 25 columns</p>\n",
       "</div>"
      ],
      "text/plain": [
       "     may_2014  november_2014  august_2015  october1_2015  october2_2015  \\\n",
       "0.0  0.000000       0.000000     0.000000       0.000000       0.000000   \n",
       "0.5  0.000000       0.000000     0.000000       0.000000       0.000000   \n",
       "1.0  0.000000       0.000000     0.000000       0.000000       0.000000   \n",
       "1.5  0.000000       0.000000     0.000000       0.000000       0.000000   \n",
       "2.0  0.000000       0.000000     0.000000       0.000000       0.000000   \n",
       "2.5  0.000000       0.000000     0.000000       0.000000       0.000000   \n",
       "3.0  0.001592       0.000000     0.003262       0.003181       0.003035   \n",
       "3.5  0.000000       0.001965     0.003914       0.004242       0.004047   \n",
       "4.0  0.006369       0.041257     0.046314       0.039236       0.040465   \n",
       "4.5  0.292994       0.361493     0.352903       0.352068       0.349519   \n",
       "5.0  0.699045       0.595285     0.593607       0.601273       0.602934   \n",
       "\n",
       "     december1_2015  december2_2015  january_2016  february_2016  march_2016  \\\n",
       "0.0        0.000000        0.000000      0.000000       0.000000    0.000000   \n",
       "0.5        0.000000        0.000000      0.000000       0.000000    0.000000   \n",
       "1.0        0.000000        0.000000      0.000000       0.000000    0.000000   \n",
       "1.5        0.000000        0.000000      0.000000       0.000000    0.000000   \n",
       "2.0        0.000000        0.000000      0.000000       0.000000    0.000000   \n",
       "2.5        0.000000        0.000000      0.000470       0.000460    0.000445   \n",
       "3.0        0.002447        0.002901      0.003758       0.003218    0.002668   \n",
       "3.5        0.003426        0.002418      0.002818       0.001839    0.004002   \n",
       "4.0        0.037200        0.036750      0.036167       0.037701    0.037795   \n",
       "4.5        0.356828        0.356867      0.337248       0.333333    0.328146   \n",
       "5.0        0.600098        0.601064      0.619540       0.623448    0.626945   \n",
       "\n",
       "       ...      september_2016  october_2016  november_2016  december_2016  \\\n",
       "0.0    ...            0.000000      0.000000       0.000000       0.000260   \n",
       "0.5    ...            0.000000      0.000000       0.000000       0.000000   \n",
       "1.0    ...            0.000000      0.000000       0.000000       0.000000   \n",
       "1.5    ...            0.000000      0.000000       0.000000       0.000000   \n",
       "2.0    ...            0.000000      0.000000       0.000000       0.000000   \n",
       "2.5    ...            0.000000      0.000000       0.000000       0.000000   \n",
       "3.0    ...            0.001165      0.001677       0.001328       0.001819   \n",
       "3.5    ...            0.005535      0.005032       0.003719       0.004678   \n",
       "4.0    ...            0.038742      0.038859       0.040117       0.040281   \n",
       "4.5    ...            0.312263      0.303327       0.308714       0.307173   \n",
       "5.0    ...            0.642295      0.651104       0.646121       0.645790   \n",
       "\n",
       "     january_2017  february_2017  april_2017  may_2017  june_2017  july_2017  \n",
       "0.0      0.000000       0.000000    0.000000  0.000000   0.000000   0.000000  \n",
       "0.5      0.000000       0.000000    0.000000  0.000000   0.000000   0.000000  \n",
       "1.0      0.000000       0.000000    0.000000  0.000000   0.000000   0.000000  \n",
       "1.5      0.000000       0.000000    0.000000  0.000000   0.000000   0.000000  \n",
       "2.0      0.000000       0.000000    0.000000  0.000000   0.000230   0.000000  \n",
       "2.5      0.000000       0.000000    0.000000  0.000000   0.000000   0.000000  \n",
       "3.0      0.001545       0.001292    0.000493  0.000482   0.000691   0.000650  \n",
       "3.5      0.004892       0.005169    0.005172  0.004820   0.004147   0.003469  \n",
       "4.0      0.040165       0.038770    0.035714  0.032779   0.029263   0.029055  \n",
       "4.5      0.315139       0.312225    0.297783  0.293806   0.286866   0.291414  \n",
       "5.0      0.638260       0.642543    0.660837  0.668113   0.678802   0.675412  \n",
       "\n",
       "[11 rows x 25 columns]"
      ]
     },
     "metadata": {},
     "output_type": "display_data"
    },
    {
     "data": {
      "image/png": "[encoded data removed]",
      "text/plain": [
       "<matplotlib.figure.Figure at 0x277f58c25c0>"
      ]
     },
     "metadata": {},
     "output_type": "display_data"
    }
   ],
   "source": [
    "#doing similar thing but for months with filtered reviews lower than 5\n",
    "df_months_low_rev = pd.DataFrame(index=np.arange(0.0,5.1,0.5))\n",
    "for i,d in enumerate(list_total):\n",
    "    for j,e in enumerate(d):\n",
    "        label = str(i) + str(j);\n",
    "        e = e[e.reviews >= 5]\n",
    "        \n",
    "        #unique the column names\n",
    "        df_months_low_rev[str(31*i+j)] = e['overall_satisfaction'].value_counts(normalize=True,dropna=True)\n",
    "\n",
    "\n",
    "df_months_low_rev.columns = ['may_2014','november_2014','august_2015','october1_2015','october2_2015','december1_2015','december2_2015','january_2016','february_2016','march_2016','april_2016','may_2016','june_2016','july_2016','august_2016','september_2016','october_2016','november_2016','december_2016','january_2017','february_2017','april_2017','may_2017','june_2017','july_2017']\n",
    "\n",
    "display(df_months_low_rev.fillna(0))\n",
    "\n",
    "months_sat_plot_low_rev = df_months_low_rev.T.plot(kind='bar', stacked=True, colormap='RdYlBu_r',legend=True)\n"
   ]
  },
  {
   "cell_type": "markdown",
   "metadata": {},
   "source": [
    "## Identifying relationship with price and time\n",
    "Here we want to look at the actual comparison of time with the relationship of price and overall satisfaction. Hence we want to be able to quantify a price with a time as well as an overall satisfaction with a time. As we saw with the year example, it was not as accurate so we will do this by months. While this relationship is not entirely accurate since not all months are present yet we have all the months sequentially set(e.g may 2014 and nov 2014 are 0 and 1 respectively on the chart), we are fine with this because our months are not heavily clustered and we want to look at the relative relationships between months.\n",
    "\n",
    "Here we are taking the mean value of satisfaction and price respectively and adding them to a list"
   ]
  },
  {
   "cell_type": "code",
   "execution_count": 34,
   "metadata": {},
   "outputs": [],
   "source": [
    "sats_high = []\n",
    "for i,d in enumerate(list_total):\n",
    "    for j,e in enumerate(d):\n",
    "        label = str(i) + str(j);\n",
    "        e = e[e.reviews > 5]\n",
    "        \n",
    "        #unique the column names\n",
    "        sats_high.append(e['overall_satisfaction'].mean())\n",
    "\n"
   ]
  },
  {
   "cell_type": "code",
   "execution_count": 35,
   "metadata": {},
   "outputs": [],
   "source": [
    "prices_high = []\n",
    "for i,d in enumerate(list_total):\n",
    "    for j,e in enumerate(d):\n",
    "        label = str(i) + str(j);\n",
    "        e = e[e.reviews > 5]\n",
    "        \n",
    "        #unique the column names\n",
    "        prices_high.append(e['price'].mean())\n",
    "\n"
   ]
  },
  {
   "cell_type": "markdown",
   "metadata": {},
   "source": [
    "### plot comparing the prices and satisfaction levels\n",
    "this is only for data points with more than 5 reviews."
   ]
  },
  {
   "cell_type": "code",
   "execution_count": 36,
   "metadata": {},
   "outputs": [
    {
     "data": {
      "text/plain": [
       "[<matplotlib.lines.Line2D at 0x277f5f04d68>]"
      ]
     },
     "execution_count": 36,
     "metadata": {},
     "output_type": "execute_result"
    },
    {
     "data": {
      "image/png": "[encoded data removed]",
      "text/plain": [
       "<matplotlib.figure.Figure at 0x277f5f04f98>"
      ]
     },
     "metadata": {},
     "output_type": "display_data"
    }
   ],
   "source": [
    "mult_sats_high = [30*x for x in sats_high]\n",
    "\n",
    "plt.plot(range(25),mult_sats,'r')\n",
    "plt.plot(range(25),prices_high,'b')"
   ]
  },
  {
   "cell_type": "code",
   "execution_count": 56,
   "metadata": {},
   "outputs": [],
   "source": [
    "differences = []\n",
    "for i in range(25):\n",
    "    differences.append((i,mult_sats_high[i] - prices_high[i]))"
   ]
  },
  {
   "cell_type": "code",
   "execution_count": 57,
   "metadata": {},
   "outputs": [],
   "source": [
    "df_diff = pd.DataFrame(differences,columns=['time','difference'])\n"
   ]
  },
  {
   "cell_type": "code",
   "execution_count": 58,
   "metadata": {},
   "outputs": [
    {
     "data": {
      "text/html": [
       "<div>\n",
       "<style scoped>\n",
       "    .dataframe tbody tr th:only-of-type {\n",
       "        vertical-align: middle;\n",
       "    }\n",
       "\n",
       "    .dataframe tbody tr th {\n",
       "        vertical-align: top;\n",
       "    }\n",
       "\n",
       "    .dataframe thead th {\n",
       "        text-align: right;\n",
       "    }\n",
       "</style>\n",
       "<table border=\"1\" class=\"dataframe\">\n",
       "  <thead>\n",
       "    <tr style=\"text-align: right;\">\n",
       "      <th></th>\n",
       "      <th>time</th>\n",
       "      <th>difference</th>\n",
       "    </tr>\n",
       "  </thead>\n",
       "  <tbody>\n",
       "    <tr>\n",
       "      <th>time</th>\n",
       "      <td>1.000000</td>\n",
       "      <td>0.278843</td>\n",
       "    </tr>\n",
       "    <tr>\n",
       "      <th>difference</th>\n",
       "      <td>0.278843</td>\n",
       "      <td>1.000000</td>\n",
       "    </tr>\n",
       "  </tbody>\n",
       "</table>\n",
       "</div>"
      ],
      "text/plain": [
       "                time  difference\n",
       "time        1.000000    0.278843\n",
       "difference  0.278843    1.000000"
      ]
     },
     "execution_count": 58,
     "metadata": {},
     "output_type": "execute_result"
    }
   ],
   "source": [
    "df_diff.corr()"
   ]
  },
  {
   "cell_type": "code",
   "execution_count": 79,
   "metadata": {},
   "outputs": [
    {
     "name": "stdout",
     "output_type": "stream",
     "text": [
      "                            OLS Regression Results                            \n",
      "==============================================================================\n",
      "Dep. Variable:             difference   R-squared:                       0.078\n",
      "Model:                            OLS   Adj. R-squared:                  0.038\n",
      "Method:                 Least Squares   F-statistic:                     1.939\n",
      "Date:                Sun, 18 Mar 2018   Prob (F-statistic):              0.177\n",
      "Time:                        01:45:28   Log-Likelihood:                -82.900\n",
      "No. Observations:                  25   AIC:                             169.8\n",
      "Df Residuals:                      23   BIC:                             172.2\n",
      "Df Model:                           1                                         \n",
      "Covariance Type:            nonrobust                                         \n",
      "==============================================================================\n",
      "                 coef    std err          t      P>|t|      [0.025      0.975]\n",
      "------------------------------------------------------------------------------\n",
      "Intercept     -5.5381      2.699     -2.052      0.052     -11.121       0.044\n",
      "time           0.2684      0.193      1.393      0.177      -0.130       0.667\n",
      "==============================================================================\n",
      "Omnibus:                       30.199   Durbin-Watson:                   1.331\n",
      "Prob(Omnibus):                  0.000   Jarque-Bera (JB):               63.930\n",
      "Skew:                          -2.349   Prob(JB):                     1.31e-14\n",
      "Kurtosis:                       9.269   Cond. No.                         27.3\n",
      "==============================================================================\n",
      "\n",
      "Warnings:\n",
      "[1] Standard Errors assume that the covariance matrix of the errors is correctly specified.\n"
     ]
    }
   ],
   "source": [
    "outcome,predictors = patsy.dmatrices('difference ~ time',df_diff)\n",
    "mod = sm.OLS(outcome,predictors)\n",
    "res = mod.fit()\n",
    "print(res.summary())"
   ]
  },
  {
   "cell_type": "code",
   "execution_count": 63,
   "metadata": {},
   "outputs": [
    {
     "data": {
      "text/plain": [
       "<matplotlib.legend.Legend at 0x277f56efc50>"
      ]
     },
     "execution_count": 63,
     "metadata": {},
     "output_type": "execute_result"
    },
    {
     "data": {
      "image/png": "[encoded data removed]",
      "text/plain": [
       "<matplotlib.figure.Figure at 0x277f5661898>"
      ]
     },
     "metadata": {},
     "output_type": "display_data"
    }
   ],
   "source": [
    "plt.scatter(df_diff['time'],df_diff['difference'],alpha=0.3,label='Data')\n",
    "xs = np.arange(df_diff['time'].min(),df_diff['time'].max())\n",
    "ys = 0.2684 *xs - 5.5381\n",
    "plt.plot(xs,ys,'--k',linewidth=4,label='Model')\n",
    "\n",
    "plt.legend()"
   ]
  },
  {
   "cell_type": "markdown",
   "metadata": {},
   "source": [
    "### Same thing but for datapoints with less than 5 reviews\n",
    "need to decide if we want to use this stuff or not"
   ]
  },
  {
   "cell_type": "code",
   "execution_count": 74,
   "metadata": {},
   "outputs": [],
   "source": [
    "sats_low = []\n",
    "for i,d in enumerate(list_total):\n",
    "    for j,e in enumerate(d):\n",
    "        label = str(i) + str(j);\n",
    "        e = e[e.reviews <= 5]\n",
    "        \n",
    "        #unique the column names\n",
    "        sats_low.append(e['overall_satisfaction'].mean())"
   ]
  },
  {
   "cell_type": "code",
   "execution_count": 75,
   "metadata": {},
   "outputs": [],
   "source": [
    "prices_low = []\n",
    "for i,d in enumerate(list_total):\n",
    "    for j,e in enumerate(d):\n",
    "        label = str(i) + str(j);\n",
    "        e = e[e.reviews <= 5]\n",
    "        \n",
    "        #unique the column names\n",
    "        prices_low.append(e['price'].mean())\n",
    "\n"
   ]
  },
  {
   "cell_type": "code",
   "execution_count": 76,
   "metadata": {},
   "outputs": [
    {
     "data": {
      "text/plain": [
       "[<matplotlib.lines.Line2D at 0x277f4277470>]"
      ]
     },
     "execution_count": 76,
     "metadata": {},
     "output_type": "execute_result"
    },
    {
     "data": {
      "image/png": "[encoded data removed]",
      "text/plain": [
       "<matplotlib.figure.Figure at 0x277f42779e8>"
      ]
     },
     "metadata": {},
     "output_type": "display_data"
    }
   ],
   "source": [
    "mult_sats_low = [40*x for x in sats_low]\n",
    "\n",
    "plt.plot(range(25),mult_sats_low,'r')\n",
    "plt.plot(range(25),prices_low,'b')"
   ]
  },
  {
   "cell_type": "markdown",
   "metadata": {},
   "source": [
    "From here we see a big dip in values between 20 and 25. We anticipate separate clusters and will separate the sets"
   ]
  },
  {
   "cell_type": "markdown",
   "metadata": {},
   "source": [
    "### Separation into Clusters"
   ]
  },
  {
   "cell_type": "code",
   "execution_count": 90,
   "metadata": {},
   "outputs": [],
   "source": [
    "differences = []\n",
    "for i in range(18):\n",
    "    differences.append((i,mult_sats_low[i] - prices_low[i]))\n",
    "differences2 = []\n",
    "for i in range(18,25):\n",
    "    differences2.append((i,mult_sats_low[i] - prices_low[i]))"
   ]
  },
  {
   "cell_type": "code",
   "execution_count": 91,
   "metadata": {},
   "outputs": [],
   "source": [
    "df_diff = pd.DataFrame(differences,columns=['time','difference'])\n",
    "df_diff2 = pd.DataFrame(differences2,columns=['time','difference'])\n"
   ]
  },
  {
   "cell_type": "markdown",
   "metadata": {},
   "source": [
    "#### For the first cluster"
   ]
  },
  {
   "cell_type": "code",
   "execution_count": 92,
   "metadata": {},
   "outputs": [
    {
     "name": "stdout",
     "output_type": "stream",
     "text": [
      "                            OLS Regression Results                            \n",
      "==============================================================================\n",
      "Dep. Variable:             difference   R-squared:                       0.634\n",
      "Model:                            OLS   Adj. R-squared:                  0.611\n",
      "Method:                 Least Squares   F-statistic:                     27.67\n",
      "Date:                Sun, 18 Mar 2018   Prob (F-statistic):           7.77e-05\n",
      "Time:                        02:01:51   Log-Likelihood:                -67.121\n",
      "No. Observations:                  18   AIC:                             138.2\n",
      "Df Residuals:                      16   BIC:                             140.0\n",
      "Df Model:                           1                                         \n",
      "Covariance Type:            nonrobust                                         \n",
      "==============================================================================\n",
      "                 coef    std err          t      P>|t|      [0.025      0.975]\n",
      "------------------------------------------------------------------------------\n",
      "Intercept    -28.6127      4.834     -5.919      0.000     -38.861     -18.364\n",
      "time           2.5537      0.485      5.260      0.000       1.525       3.583\n",
      "==============================================================================\n",
      "Omnibus:                        6.803   Durbin-Watson:                   1.614\n",
      "Prob(Omnibus):                  0.033   Jarque-Bera (JB):                4.063\n",
      "Skew:                          -1.048   Prob(JB):                        0.131\n",
      "Kurtosis:                       4.011   Cond. No.                         19.3\n",
      "==============================================================================\n",
      "\n",
      "Warnings:\n",
      "[1] Standard Errors assume that the covariance matrix of the errors is correctly specified.\n"
     ]
    },
    {
     "name": "stderr",
     "output_type": "stream",
     "text": [
      "C:\\Users\\kukidex\\Anaconda3\\lib\\site-packages\\scipy\\stats\\stats.py:1334: UserWarning: kurtosistest only valid for n>=20 ... continuing anyway, n=18\n",
      "  \"anyway, n=%i\" % int(n))\n"
     ]
    }
   ],
   "source": [
    "outcome,predictors = patsy.dmatrices('difference ~ time',df_diff)\n",
    "mod = sm.OLS(outcome,predictors)\n",
    "res = mod.fit()\n",
    "print(res.summary())"
   ]
  },
  {
   "cell_type": "code",
   "execution_count": 93,
   "metadata": {},
   "outputs": [
    {
     "name": "stdout",
     "output_type": "stream",
     "text": [
      "                            OLS Regression Results                            \n",
      "==============================================================================\n",
      "Dep. Variable:             difference   R-squared:                       0.285\n",
      "Model:                            OLS   Adj. R-squared:                  0.142\n",
      "Method:                 Least Squares   F-statistic:                     1.991\n",
      "Date:                Sun, 18 Mar 2018   Prob (F-statistic):              0.217\n",
      "Time:                        02:01:54   Log-Likelihood:                -20.011\n",
      "No. Observations:                   7   AIC:                             44.02\n",
      "Df Residuals:                       5   BIC:                             43.91\n",
      "Df Model:                           1                                         \n",
      "Covariance Type:            nonrobust                                         \n",
      "==============================================================================\n",
      "                 coef    std err          t      P>|t|      [0.025      0.975]\n",
      "------------------------------------------------------------------------------\n",
      "Intercept   -102.6550     19.905     -5.157      0.004    -153.823     -51.487\n",
      "time          -1.3314      0.944     -1.411      0.217      -3.757       1.094\n",
      "==============================================================================\n",
      "Omnibus:                          nan   Durbin-Watson:                   2.352\n",
      "Prob(Omnibus):                    nan   Jarque-Bera (JB):                1.691\n",
      "Skew:                          -1.185   Prob(JB):                        0.429\n",
      "Kurtosis:                       3.430   Cond. No.                         223.\n",
      "==============================================================================\n",
      "\n",
      "Warnings:\n",
      "[1] Standard Errors assume that the covariance matrix of the errors is correctly specified.\n"
     ]
    },
    {
     "name": "stderr",
     "output_type": "stream",
     "text": [
      "C:\\Users\\kukidex\\Anaconda3\\lib\\site-packages\\statsmodels\\stats\\stattools.py:72: ValueWarning: omni_normtest is not valid with less than 8 observations; 7 samples were given.\n",
      "  \"samples were given.\" % int(n), ValueWarning)\n"
     ]
    }
   ],
   "source": [
    "outcome,predictors = patsy.dmatrices('difference ~ time',df_diff2)\n",
    "mod = sm.OLS(outcome,predictors)\n",
    "res = mod.fit()\n",
    "print(res.summary())"
   ]
  },
  {
   "cell_type": "code",
   "execution_count": 98,
   "metadata": {},
   "outputs": [
    {
     "data": {
      "text/plain": [
       "<matplotlib.legend.Legend at 0x277f44ffef0>"
      ]
     },
     "execution_count": 98,
     "metadata": {},
     "output_type": "execute_result"
    },
    {
     "data": {
      "image/png": "[encoded data removed]",
      "text/plain": [
       "<matplotlib.figure.Figure at 0x277f2b2df98>"
      ]
     },
     "metadata": {},
     "output_type": "display_data"
    }
   ],
   "source": [
    "plt.scatter(df_diff['time'],df_diff['difference'],alpha=0.3,label='Data')\n",
    "xs = np.arange(df_diff['time'].min(),df_diff['time'].max())\n",
    "ys = 2.5537 *xs -28.6127\n",
    "plt.plot(xs,ys,'--k',linewidth=2,label='Model')\n",
    "\n",
    "plt.scatter(df_diff2['time'],df_diff2['difference'],alpha=0.3,label='Data')\n",
    "xs2 = np.arange(df_diff2['time'].min(),df_diff2['time'].max())\n",
    "ys2 = -1.3314 *xs2 -102.6550\n",
    "plt.plot(xs2,ys2,'--k',linewidth=2,label='Model')\n",
    "\n",
    "plt.legend()"
   ]
  },
  {
   "cell_type": "code",
   "execution_count": null,
   "metadata": {},
   "outputs": [],
   "source": []
  }
 ],
 "metadata": {
  "kernelspec": {
   "display_name": "Python 3",
   "language": "python",
   "name": "python3"
  },
  "language_info": {
   "codemirror_mode": {
    "name": "ipython",
    "version": 3
   },
   "file_extension": ".py",
   "mimetype": "text/x-python",
   "name": "python",
   "nbconvert_exporter": "python",
   "pygments_lexer": "ipython3",
   "version": "3.6.4"
  }
 },
 "nbformat": 4,
 "nbformat_minor": 2
}
